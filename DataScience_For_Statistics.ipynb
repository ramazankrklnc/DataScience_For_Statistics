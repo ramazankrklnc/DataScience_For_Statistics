{
 "cells": [
  {
   "cell_type": "markdown",
   "id": "efca6604-f0be-4647-b27b-f1bd77a88c40",
   "metadata": {},
   "source": [
    "# Veri Bilimi İçin İstatistik 101"
   ]
  },
  {
   "cell_type": "markdown",
   "id": "d52a2407-6820-47ce-a900-74c7f4116649",
   "metadata": {},
   "source": [
    "## Temel İstatistik"
   ]
  },
  {
   "cell_type": "code",
   "execution_count": 3,
   "id": "5f13913c-d24d-4e01-84fb-4fc3ac808a81",
   "metadata": {},
   "outputs": [],
   "source": [
    "import numpy as np\n",
    "import pandas as pd\n",
    "import seaborn as sns\n",
    "import matplotlib.pyplot as plt "
   ]
  },
  {
   "cell_type": "markdown",
   "id": "ea14b21c-e2be-470e-b43e-340bcb578ae9",
   "metadata": {},
   "source": [
    "### Örnek Teorisi"
   ]
  },
  {
   "cell_type": "markdown",
   "id": "4b325044-4766-4584-a11b-cd4425398bf7",
   "metadata": {},
   "source": [
    "* Bir ilçedeki kişilerin yaş ortalamasını merak ediyoruz varsayalım. Ama ilçe nüfusu 10k olduğu için her birisiyle görüşüp bilgi almak imkansız bunun yerine 100 kişilik örneklem alarak bu 100 kişinin yaş ortalamasını çekip bu ilçe ile ilgili yaş ortalamasını tahmin etmeye çalışıyoruz."
   ]
  },
  {
   "cell_type": "code",
   "execution_count": 4,
   "id": "72a7ec47-5037-41e7-9763-c785cc5fb138",
   "metadata": {},
   "outputs": [],
   "source": [
    "populasyon = np.random.randint(0, 80, 10000)"
   ]
  },
  {
   "cell_type": "code",
   "execution_count": 5,
   "id": "a7b8cb27-f4ba-4fda-b927-37cddbe65e61",
   "metadata": {},
   "outputs": [
    {
     "data": {
      "text/plain": [
       "array([74, 11, 39, 49, 63, 48, 75, 26, 41, 78])"
      ]
     },
     "execution_count": 5,
     "metadata": {},
     "output_type": "execute_result"
    }
   ],
   "source": [
    "populasyon[0:10]"
   ]
  },
  {
   "cell_type": "markdown",
   "id": "07b34bb5-560b-478f-b7be-fa33784e6bd3",
   "metadata": {},
   "source": [
    "----------------------------------------------------------------------------------------------------------------------------------------------------"
   ]
  },
  {
   "cell_type": "markdown",
   "id": "d45258a9-2155-4c6a-b319-9d182fcd34c8",
   "metadata": {},
   "source": [
    "#### Örneklem Çekme"
   ]
  },
  {
   "cell_type": "code",
   "execution_count": 6,
   "id": "f78bf884-c839-486e-8b58-bd8f78115bdf",
   "metadata": {},
   "outputs": [
    {
     "data": {
      "text/plain": [
       "array([55, 14, 76, 34,  9, 18, 57,  6, 34, 67])"
      ]
     },
     "execution_count": 6,
     "metadata": {},
     "output_type": "execute_result"
    }
   ],
   "source": [
    "np.random.seed(10)          \n",
    "# Buradaki \"seed\" bizim randomla çektiğimiz verinin sürekli aynı gelmesini sağlıyor.\n",
    "orneklem = np.random.choice( a = populasyon, size = 100)\n",
    "orneklem[0:10]"
   ]
  },
  {
   "cell_type": "code",
   "execution_count": 7,
   "id": "03f8ee57-8476-4d2e-8adf-ab0958c46ffb",
   "metadata": {},
   "outputs": [
    {
     "data": {
      "text/plain": [
       "40.95"
      ]
     },
     "execution_count": 7,
     "metadata": {},
     "output_type": "execute_result"
    }
   ],
   "source": [
    "orneklem.mean()"
   ]
  },
  {
   "cell_type": "code",
   "execution_count": 8,
   "id": "390ef990-10d7-410b-88d6-c0b5b23e0c08",
   "metadata": {},
   "outputs": [
    {
     "data": {
      "text/plain": [
       "39.7371"
      ]
     },
     "execution_count": 8,
     "metadata": {},
     "output_type": "execute_result"
    }
   ],
   "source": [
    "populasyon.mean()"
   ]
  },
  {
   "cell_type": "markdown",
   "id": "ec159c77-c42c-4ceb-b39f-75b84f5f22d0",
   "metadata": {},
   "source": [
    "----------------------------------------------------------------------------------------------------------------------------------------------------"
   ]
  },
  {
   "cell_type": "markdown",
   "id": "7d637c7b-ba4e-4266-ae49-58b85c87a3b2",
   "metadata": {},
   "source": [
    "### Örneklem Dağılımı"
   ]
  },
  {
   "cell_type": "code",
   "execution_count": 9,
   "id": "a1053769-acb6-4762-8278-6dd823645926",
   "metadata": {},
   "outputs": [],
   "source": [
    "np.random.seed(10)\n",
    "orneklem1 = np.random.choice(a = populasyon, size = 100)\n",
    "orneklem2 = np.random.choice(a = populasyon, size = 100)\n",
    "orneklem3 = np.random.choice(a = populasyon, size = 100)\n",
    "orneklem4 = np.random.choice(a = populasyon, size = 100)\n",
    "orneklem5 = np.random.choice(a = populasyon, size = 100)\n",
    "orneklem6 = np.random.choice(a = populasyon, size = 100)\n",
    "orneklem7 = np.random.choice(a = populasyon, size = 100)\n",
    "orneklem8 = np.random.choice(a = populasyon, size = 100)\n",
    "orneklem9 = np.random.choice(a = populasyon, size = 100)\n",
    "orneklem10 = np.random.choice(a = populasyon, size = 100)"
   ]
  },
  {
   "cell_type": "code",
   "execution_count": 10,
   "id": "ccad8132-1299-4796-a6c5-b86342443cb0",
   "metadata": {},
   "outputs": [
    {
     "data": {
      "text/plain": [
       "38.856"
      ]
     },
     "execution_count": 10,
     "metadata": {},
     "output_type": "execute_result"
    }
   ],
   "source": [
    "(orneklem1.mean() + orneklem2.mean() + orneklem3.mean() + orneklem4.mean() + orneklem5.mean()\n",
    "+ orneklem6.mean() + orneklem7.mean() + orneklem8.mean() + orneklem9.mean() + orneklem10.mean() ) / 10"
   ]
  },
  {
   "cell_type": "markdown",
   "id": "b3588813-a47e-47fd-999d-3736c47cbcd5",
   "metadata": {},
   "source": [
    "----------------------------------------------------------------------------------------------------------------------------------------------------"
   ]
  },
  {
   "cell_type": "markdown",
   "id": "22c6d0b0-9b80-4492-8820-1de8a3baea9a",
   "metadata": {},
   "source": [
    "### Betimsel İstatistikler"
   ]
  },
  {
   "cell_type": "code",
   "execution_count": 11,
   "id": "27ab31eb-b845-465f-a057-27bc3d0d03f5",
   "metadata": {},
   "outputs": [
    {
     "data": {
      "text/html": [
       "<div>\n",
       "<style scoped>\n",
       "    .dataframe tbody tr th:only-of-type {\n",
       "        vertical-align: middle;\n",
       "    }\n",
       "\n",
       "    .dataframe tbody tr th {\n",
       "        vertical-align: top;\n",
       "    }\n",
       "\n",
       "    .dataframe thead th {\n",
       "        text-align: right;\n",
       "    }\n",
       "</style>\n",
       "<table border=\"1\" class=\"dataframe\">\n",
       "  <thead>\n",
       "    <tr style=\"text-align: right;\">\n",
       "      <th></th>\n",
       "      <th>total_bill</th>\n",
       "      <th>tip</th>\n",
       "      <th>sex</th>\n",
       "      <th>smoker</th>\n",
       "      <th>day</th>\n",
       "      <th>time</th>\n",
       "      <th>size</th>\n",
       "    </tr>\n",
       "  </thead>\n",
       "  <tbody>\n",
       "    <tr>\n",
       "      <th>0</th>\n",
       "      <td>16.99</td>\n",
       "      <td>1.01</td>\n",
       "      <td>Female</td>\n",
       "      <td>No</td>\n",
       "      <td>Sun</td>\n",
       "      <td>Dinner</td>\n",
       "      <td>2</td>\n",
       "    </tr>\n",
       "    <tr>\n",
       "      <th>1</th>\n",
       "      <td>10.34</td>\n",
       "      <td>1.66</td>\n",
       "      <td>Male</td>\n",
       "      <td>No</td>\n",
       "      <td>Sun</td>\n",
       "      <td>Dinner</td>\n",
       "      <td>3</td>\n",
       "    </tr>\n",
       "    <tr>\n",
       "      <th>2</th>\n",
       "      <td>21.01</td>\n",
       "      <td>3.50</td>\n",
       "      <td>Male</td>\n",
       "      <td>No</td>\n",
       "      <td>Sun</td>\n",
       "      <td>Dinner</td>\n",
       "      <td>3</td>\n",
       "    </tr>\n",
       "    <tr>\n",
       "      <th>3</th>\n",
       "      <td>23.68</td>\n",
       "      <td>3.31</td>\n",
       "      <td>Male</td>\n",
       "      <td>No</td>\n",
       "      <td>Sun</td>\n",
       "      <td>Dinner</td>\n",
       "      <td>2</td>\n",
       "    </tr>\n",
       "    <tr>\n",
       "      <th>4</th>\n",
       "      <td>24.59</td>\n",
       "      <td>3.61</td>\n",
       "      <td>Female</td>\n",
       "      <td>No</td>\n",
       "      <td>Sun</td>\n",
       "      <td>Dinner</td>\n",
       "      <td>4</td>\n",
       "    </tr>\n",
       "  </tbody>\n",
       "</table>\n",
       "</div>"
      ],
      "text/plain": [
       "   total_bill   tip     sex smoker  day    time  size\n",
       "0       16.99  1.01  Female     No  Sun  Dinner     2\n",
       "1       10.34  1.66    Male     No  Sun  Dinner     3\n",
       "2       21.01  3.50    Male     No  Sun  Dinner     3\n",
       "3       23.68  3.31    Male     No  Sun  Dinner     2\n",
       "4       24.59  3.61  Female     No  Sun  Dinner     4"
      ]
     },
     "execution_count": 11,
     "metadata": {},
     "output_type": "execute_result"
    }
   ],
   "source": [
    "tips = sns.load_dataset(\"tips\")\n",
    "df = tips.copy()\n",
    "df.head()"
   ]
  },
  {
   "cell_type": "code",
   "execution_count": 12,
   "id": "0e35c9d4-69d5-4fe5-8694-9b39f2c44afe",
   "metadata": {},
   "outputs": [
    {
     "data": {
      "text/html": [
       "<div>\n",
       "<style scoped>\n",
       "    .dataframe tbody tr th:only-of-type {\n",
       "        vertical-align: middle;\n",
       "    }\n",
       "\n",
       "    .dataframe tbody tr th {\n",
       "        vertical-align: top;\n",
       "    }\n",
       "\n",
       "    .dataframe thead th {\n",
       "        text-align: right;\n",
       "    }\n",
       "</style>\n",
       "<table border=\"1\" class=\"dataframe\">\n",
       "  <thead>\n",
       "    <tr style=\"text-align: right;\">\n",
       "      <th></th>\n",
       "      <th>count</th>\n",
       "      <th>mean</th>\n",
       "      <th>std</th>\n",
       "      <th>min</th>\n",
       "      <th>25%</th>\n",
       "      <th>50%</th>\n",
       "      <th>75%</th>\n",
       "      <th>max</th>\n",
       "    </tr>\n",
       "  </thead>\n",
       "  <tbody>\n",
       "    <tr>\n",
       "      <th>total_bill</th>\n",
       "      <td>244.0</td>\n",
       "      <td>19.785943</td>\n",
       "      <td>8.902412</td>\n",
       "      <td>3.07</td>\n",
       "      <td>13.3475</td>\n",
       "      <td>17.795</td>\n",
       "      <td>24.1275</td>\n",
       "      <td>50.81</td>\n",
       "    </tr>\n",
       "    <tr>\n",
       "      <th>tip</th>\n",
       "      <td>244.0</td>\n",
       "      <td>2.998279</td>\n",
       "      <td>1.383638</td>\n",
       "      <td>1.00</td>\n",
       "      <td>2.0000</td>\n",
       "      <td>2.900</td>\n",
       "      <td>3.5625</td>\n",
       "      <td>10.00</td>\n",
       "    </tr>\n",
       "    <tr>\n",
       "      <th>size</th>\n",
       "      <td>244.0</td>\n",
       "      <td>2.569672</td>\n",
       "      <td>0.951100</td>\n",
       "      <td>1.00</td>\n",
       "      <td>2.0000</td>\n",
       "      <td>2.000</td>\n",
       "      <td>3.0000</td>\n",
       "      <td>6.00</td>\n",
       "    </tr>\n",
       "  </tbody>\n",
       "</table>\n",
       "</div>"
      ],
      "text/plain": [
       "            count       mean       std   min      25%     50%      75%    max\n",
       "total_bill  244.0  19.785943  8.902412  3.07  13.3475  17.795  24.1275  50.81\n",
       "tip         244.0   2.998279  1.383638  1.00   2.0000   2.900   3.5625  10.00\n",
       "size        244.0   2.569672  0.951100  1.00   2.0000   2.000   3.0000   6.00"
      ]
     },
     "execution_count": 12,
     "metadata": {},
     "output_type": "execute_result"
    }
   ],
   "source": [
    "df.describe().T"
   ]
  },
  {
   "cell_type": "code",
   "execution_count": 13,
   "id": "598d70b8-0f32-4b31-b16e-4a1969edeb93",
   "metadata": {},
   "outputs": [
    {
     "name": "stdout",
     "output_type": "stream",
     "text": [
      "Requirement already satisfied: researchpy in c:\\users\\asus\\anaconda3\\lib\\site-packages (0.3.5)\n",
      "Requirement already satisfied: scipy in c:\\users\\asus\\anaconda3\\lib\\site-packages (from researchpy) (1.10.1)\n",
      "Requirement already satisfied: numpy in c:\\users\\asus\\anaconda3\\lib\\site-packages (from researchpy) (1.24.3)\n",
      "Requirement already satisfied: pandas in c:\\users\\asus\\anaconda3\\lib\\site-packages (from researchpy) (1.5.3)\n",
      "Requirement already satisfied: statsmodels in c:\\users\\asus\\anaconda3\\lib\\site-packages (from researchpy) (0.14.0)\n",
      "Requirement already satisfied: patsy in c:\\users\\asus\\anaconda3\\lib\\site-packages (from researchpy) (0.5.3)\n",
      "Requirement already satisfied: python-dateutil>=2.8.1 in c:\\users\\asus\\appdata\\roaming\\python\\python311\\site-packages (from pandas->researchpy) (2.8.2)\n",
      "Requirement already satisfied: pytz>=2020.1 in c:\\users\\asus\\anaconda3\\lib\\site-packages (from pandas->researchpy) (2022.7)\n",
      "Requirement already satisfied: six in c:\\users\\asus\\appdata\\roaming\\python\\python311\\site-packages (from patsy->researchpy) (1.16.0)\n",
      "Requirement already satisfied: packaging>=21.3 in c:\\users\\asus\\appdata\\roaming\\python\\python311\\site-packages (from statsmodels->researchpy) (23.0)\n"
     ]
    }
   ],
   "source": [
    "!pip install researchpy"
   ]
  },
  {
   "cell_type": "code",
   "execution_count": 14,
   "id": "1dc8a14d-65cc-44fc-b0e1-d9ee39149a13",
   "metadata": {
    "tags": []
   },
   "outputs": [],
   "source": [
    "import researchpy as rp"
   ]
  },
  {
   "cell_type": "code",
   "execution_count": 15,
   "id": "9b0a5a33-122c-4aa0-8883-264552266074",
   "metadata": {},
   "outputs": [
    {
     "name": "stdout",
     "output_type": "stream",
     "text": [
      "\n",
      "\n"
     ]
    },
    {
     "name": "stderr",
     "output_type": "stream",
     "text": [
      "C:\\Users\\ASUS\\anaconda3\\Lib\\site-packages\\researchpy\\summary.py:60: FutureWarning: iteritems is deprecated and will be removed in a future version. Use .items instead.\n",
      "  for ix, df_col in group1.iteritems():\n"
     ]
    },
    {
     "data": {
      "text/html": [
       "<div>\n",
       "<style scoped>\n",
       "    .dataframe tbody tr th:only-of-type {\n",
       "        vertical-align: middle;\n",
       "    }\n",
       "\n",
       "    .dataframe tbody tr th {\n",
       "        vertical-align: top;\n",
       "    }\n",
       "\n",
       "    .dataframe thead th {\n",
       "        text-align: right;\n",
       "    }\n",
       "</style>\n",
       "<table border=\"1\" class=\"dataframe\">\n",
       "  <thead>\n",
       "    <tr style=\"text-align: right;\">\n",
       "      <th></th>\n",
       "      <th>Variable</th>\n",
       "      <th>N</th>\n",
       "      <th>Mean</th>\n",
       "      <th>SD</th>\n",
       "      <th>SE</th>\n",
       "      <th>95% Conf.</th>\n",
       "      <th>Interval</th>\n",
       "    </tr>\n",
       "  </thead>\n",
       "  <tbody>\n",
       "    <tr>\n",
       "      <th>0</th>\n",
       "      <td>total_bill</td>\n",
       "      <td>244.0</td>\n",
       "      <td>19.7859</td>\n",
       "      <td>8.9024</td>\n",
       "      <td>0.5699</td>\n",
       "      <td>18.6633</td>\n",
       "      <td>20.9086</td>\n",
       "    </tr>\n",
       "    <tr>\n",
       "      <th>1</th>\n",
       "      <td>tip</td>\n",
       "      <td>244.0</td>\n",
       "      <td>2.9983</td>\n",
       "      <td>1.3836</td>\n",
       "      <td>0.0886</td>\n",
       "      <td>2.8238</td>\n",
       "      <td>3.1728</td>\n",
       "    </tr>\n",
       "    <tr>\n",
       "      <th>2</th>\n",
       "      <td>size</td>\n",
       "      <td>244.0</td>\n",
       "      <td>2.5697</td>\n",
       "      <td>0.9511</td>\n",
       "      <td>0.0609</td>\n",
       "      <td>2.4497</td>\n",
       "      <td>2.6896</td>\n",
       "    </tr>\n",
       "  </tbody>\n",
       "</table>\n",
       "</div>"
      ],
      "text/plain": [
       "     Variable      N     Mean      SD      SE  95% Conf.  Interval\n",
       "0  total_bill  244.0  19.7859  8.9024  0.5699    18.6633   20.9086\n",
       "1         tip  244.0   2.9983  1.3836  0.0886     2.8238    3.1728\n",
       "2        size  244.0   2.5697  0.9511  0.0609     2.4497    2.6896"
      ]
     },
     "execution_count": 15,
     "metadata": {},
     "output_type": "execute_result"
    }
   ],
   "source": [
    "rp.summary_cont(df[[\"total_bill\", \"tip\", \"size\"]])  \n",
    "# Bu sürekli değişekler(sayısal değişkenler) için kullanılıyor. \n",
    "# N: Gözlem Sayıları\n",
    "# Mean: Ortalama değeri \n",
    "# SD: Standart Sapması\n",
    "# SE: Standart hatası\n",
    "# 95% Conf.\t: Güven değeri \n",
    "# Interval: Güven Aralığı"
   ]
  },
  {
   "cell_type": "code",
   "execution_count": 16,
   "id": "e26d28d4-85b5-44c1-bb2b-24783119db72",
   "metadata": {},
   "outputs": [
    {
     "name": "stderr",
     "output_type": "stream",
     "text": [
      "C:\\Users\\ASUS\\anaconda3\\Lib\\site-packages\\researchpy\\summary.py:225: FutureWarning: iteritems is deprecated and will be removed in a future version. Use .items instead.\n",
      "  for ix, df_col in group1.iteritems():\n"
     ]
    },
    {
     "data": {
      "text/html": [
       "<div>\n",
       "<style scoped>\n",
       "    .dataframe tbody tr th:only-of-type {\n",
       "        vertical-align: middle;\n",
       "    }\n",
       "\n",
       "    .dataframe tbody tr th {\n",
       "        vertical-align: top;\n",
       "    }\n",
       "\n",
       "    .dataframe thead th {\n",
       "        text-align: right;\n",
       "    }\n",
       "</style>\n",
       "<table border=\"1\" class=\"dataframe\">\n",
       "  <thead>\n",
       "    <tr style=\"text-align: right;\">\n",
       "      <th></th>\n",
       "      <th>Variable</th>\n",
       "      <th>Outcome</th>\n",
       "      <th>Count</th>\n",
       "      <th>Percent</th>\n",
       "    </tr>\n",
       "  </thead>\n",
       "  <tbody>\n",
       "    <tr>\n",
       "      <th>0</th>\n",
       "      <td>sex</td>\n",
       "      <td>Male</td>\n",
       "      <td>157</td>\n",
       "      <td>64.34</td>\n",
       "    </tr>\n",
       "    <tr>\n",
       "      <th>1</th>\n",
       "      <td></td>\n",
       "      <td>Female</td>\n",
       "      <td>87</td>\n",
       "      <td>35.66</td>\n",
       "    </tr>\n",
       "    <tr>\n",
       "      <th>2</th>\n",
       "      <td>smoker</td>\n",
       "      <td>No</td>\n",
       "      <td>151</td>\n",
       "      <td>61.89</td>\n",
       "    </tr>\n",
       "    <tr>\n",
       "      <th>3</th>\n",
       "      <td></td>\n",
       "      <td>Yes</td>\n",
       "      <td>93</td>\n",
       "      <td>38.11</td>\n",
       "    </tr>\n",
       "    <tr>\n",
       "      <th>4</th>\n",
       "      <td>day</td>\n",
       "      <td>Sat</td>\n",
       "      <td>87</td>\n",
       "      <td>35.66</td>\n",
       "    </tr>\n",
       "    <tr>\n",
       "      <th>5</th>\n",
       "      <td></td>\n",
       "      <td>Sun</td>\n",
       "      <td>76</td>\n",
       "      <td>31.15</td>\n",
       "    </tr>\n",
       "    <tr>\n",
       "      <th>6</th>\n",
       "      <td></td>\n",
       "      <td>Thur</td>\n",
       "      <td>62</td>\n",
       "      <td>25.41</td>\n",
       "    </tr>\n",
       "    <tr>\n",
       "      <th>7</th>\n",
       "      <td></td>\n",
       "      <td>Fri</td>\n",
       "      <td>19</td>\n",
       "      <td>7.79</td>\n",
       "    </tr>\n",
       "  </tbody>\n",
       "</table>\n",
       "</div>"
      ],
      "text/plain": [
       "  Variable Outcome  Count  Percent\n",
       "0      sex    Male    157    64.34\n",
       "1           Female     87    35.66\n",
       "2   smoker      No    151    61.89\n",
       "3              Yes     93    38.11\n",
       "4      day     Sat     87    35.66\n",
       "5              Sun     76    31.15\n",
       "6             Thur     62    25.41\n",
       "7              Fri     19     7.79"
      ]
     },
     "execution_count": 16,
     "metadata": {},
     "output_type": "execute_result"
    }
   ],
   "source": [
    "rp.summary_cat(df[[\"sex\", \"smoker\", \"day\"]]) \n",
    "# Bu ise kategorik değişkenler için"
   ]
  },
  {
   "cell_type": "code",
   "execution_count": 17,
   "id": "8f434e4d-3a84-42c9-8bd2-140cc756a175",
   "metadata": {},
   "outputs": [
    {
     "data": {
      "text/html": [
       "<div>\n",
       "<style scoped>\n",
       "    .dataframe tbody tr th:only-of-type {\n",
       "        vertical-align: middle;\n",
       "    }\n",
       "\n",
       "    .dataframe tbody tr th {\n",
       "        vertical-align: top;\n",
       "    }\n",
       "\n",
       "    .dataframe thead th {\n",
       "        text-align: right;\n",
       "    }\n",
       "</style>\n",
       "<table border=\"1\" class=\"dataframe\">\n",
       "  <thead>\n",
       "    <tr style=\"text-align: right;\">\n",
       "      <th></th>\n",
       "      <th>tip</th>\n",
       "      <th>total_bill</th>\n",
       "    </tr>\n",
       "  </thead>\n",
       "  <tbody>\n",
       "    <tr>\n",
       "      <th>tip</th>\n",
       "      <td>1.914455</td>\n",
       "      <td>8.323502</td>\n",
       "    </tr>\n",
       "    <tr>\n",
       "      <th>total_bill</th>\n",
       "      <td>8.323502</td>\n",
       "      <td>79.252939</td>\n",
       "    </tr>\n",
       "  </tbody>\n",
       "</table>\n",
       "</div>"
      ],
      "text/plain": [
       "                 tip  total_bill\n",
       "tip         1.914455    8.323502\n",
       "total_bill  8.323502   79.252939"
      ]
     },
     "execution_count": 17,
     "metadata": {},
     "output_type": "execute_result"
    }
   ],
   "source": [
    "df[[\"tip\", \"total_bill\"]].cov()    # Buradaki \"cov\" kovaryansı ifade ediyor.\n",
    "# Kovaryans: Değişkenlerin ilişkilerine ilişkin değişkenlik ölçüsü verir."
   ]
  },
  {
   "cell_type": "code",
   "execution_count": 18,
   "id": "3292a45b-7285-4eac-80ff-8e17fdc7bbda",
   "metadata": {},
   "outputs": [
    {
     "data": {
      "text/html": [
       "<div>\n",
       "<style scoped>\n",
       "    .dataframe tbody tr th:only-of-type {\n",
       "        vertical-align: middle;\n",
       "    }\n",
       "\n",
       "    .dataframe tbody tr th {\n",
       "        vertical-align: top;\n",
       "    }\n",
       "\n",
       "    .dataframe thead th {\n",
       "        text-align: right;\n",
       "    }\n",
       "</style>\n",
       "<table border=\"1\" class=\"dataframe\">\n",
       "  <thead>\n",
       "    <tr style=\"text-align: right;\">\n",
       "      <th></th>\n",
       "      <th>tip</th>\n",
       "      <th>total_bill</th>\n",
       "    </tr>\n",
       "  </thead>\n",
       "  <tbody>\n",
       "    <tr>\n",
       "      <th>tip</th>\n",
       "      <td>1.000000</td>\n",
       "      <td>0.675734</td>\n",
       "    </tr>\n",
       "    <tr>\n",
       "      <th>total_bill</th>\n",
       "      <td>0.675734</td>\n",
       "      <td>1.000000</td>\n",
       "    </tr>\n",
       "  </tbody>\n",
       "</table>\n",
       "</div>"
      ],
      "text/plain": [
       "                 tip  total_bill\n",
       "tip         1.000000    0.675734\n",
       "total_bill  0.675734    1.000000"
      ]
     },
     "execution_count": 18,
     "metadata": {},
     "output_type": "execute_result"
    }
   ],
   "source": [
    "df[[\"tip\", \"total_bill\"]].corr()    # Buradaki \"corr\" korelasyon ifade ediyor."
   ]
  },
  {
   "cell_type": "markdown",
   "id": "0c81d258-c196-40ea-948e-69012ed24729",
   "metadata": {},
   "source": [
    "----------------------------------------------------------------------------------------------------------------------------------------------------"
   ]
  },
  {
   "cell_type": "markdown",
   "id": "7966cf78-718a-4b7b-b21b-011c8a07d836",
   "metadata": {
    "tags": []
   },
   "source": [
    "### İş Uygulaması: Fiyat Stratejisi Karar Destek"
   ]
  },
  {
   "cell_type": "code",
   "execution_count": 19,
   "id": "679aeb40-3b26-4f26-8c8a-cf07dc995ebd",
   "metadata": {},
   "outputs": [],
   "source": [
    "fiyatlar = np.random.randint(10, 110, 1000)"
   ]
  },
  {
   "cell_type": "code",
   "execution_count": 20,
   "id": "8cb7c8b5-a45e-4106-8e25-057ea64be3c3",
   "metadata": {},
   "outputs": [
    {
     "data": {
      "text/plain": [
       "58.492"
      ]
     },
     "execution_count": 20,
     "metadata": {},
     "output_type": "execute_result"
    }
   ],
   "source": [
    "fiyatlar.mean()"
   ]
  },
  {
   "cell_type": "code",
   "execution_count": 21,
   "id": "00775e14-0269-4962-a8ac-4f30a9045a32",
   "metadata": {},
   "outputs": [],
   "source": [
    "import statsmodels.stats.api as sms"
   ]
  },
  {
   "cell_type": "code",
   "execution_count": 22,
   "id": "762825c6-741c-49aa-b275-e8478b1a656a",
   "metadata": {},
   "outputs": [
    {
     "data": {
      "text/plain": [
       "(56.67953887736034, 60.30446112263965)"
      ]
     },
     "execution_count": 22,
     "metadata": {},
     "output_type": "execute_result"
    }
   ],
   "source": [
    "sms.DescrStatsW(fiyatlar).tconfint_mean()\n",
    "# confint= confidence interval'in kısaltması\n",
    "# Bu kod bize istatistiksel olarak %95 güvenilirlikle  56 ile 60 arasındadır.\n",
    "# Diğer ifade ile %5'lik kısmı bu aralık dışındadır. \n",
    "# Bize bilimsel olarak belirlenmesi için en iyi fiyat aralığıdır."
   ]
  },
  {
   "cell_type": "markdown",
   "id": "005973b6-684c-4b9b-8253-d001e99d602d",
   "metadata": {},
   "source": [
    "----------------------------------------------------------------------------------------------------------------------------------------------------"
   ]
  },
  {
   "cell_type": "markdown",
   "id": "afe27a91-c92b-4d19-9892-0c04219f70c9",
   "metadata": {},
   "source": [
    "## Olasılığa Giriş"
   ]
  },
  {
   "cell_type": "markdown",
   "id": "b5a4423f-b5a7-4d90-8934-d5e6c95fd48f",
   "metadata": {},
   "source": [
    "### Bernoulli Dağılımı"
   ]
  },
  {
   "cell_type": "markdown",
   "id": "2fd99e9b-ce6a-496c-aa53-97427bc4c91d",
   "metadata": {},
   "source": [
    "#### Formül:\n",
    "\n",
    "${\\displaystyle f(k;p) = p^{k}(1-p)^{1-k}\\quad  {\\text{for }} k\\in \\{0,1\\}}$ \n",
    "\n",
    "${\\displaystyle \\operatorname {E} \\left(X\\right)=p}$ \n",
    "\n",
    "$\\operatorname {Var} [X]=pq=p(1-p)$ "
   ]
  },
  {
   "cell_type": "markdown",
   "id": "d1b0f7bd-0b1e-4014-a4fb-4ca7aba9ea25",
   "metadata": {},
   "source": [
    "* Yazı Tura Kodu"
   ]
  },
  {
   "cell_type": "code",
   "execution_count": 23,
   "id": "048f07fa-6496-4d24-aee6-6fb4e4b424af",
   "metadata": {},
   "outputs": [],
   "source": [
    "from scipy.stats import bernoulli"
   ]
  },
  {
   "cell_type": "code",
   "execution_count": 24,
   "id": "2eeb1dc9-fe46-4d01-b540-5461b241cf88",
   "metadata": {},
   "outputs": [
    {
     "data": {
      "text/plain": [
       "0.6"
      ]
     },
     "execution_count": 24,
     "metadata": {},
     "output_type": "execute_result"
    }
   ],
   "source": [
    "p = 0.6\n",
    "orn = bernoulli(p)\n",
    "orn.pmf( k = 1)"
   ]
  },
  {
   "cell_type": "markdown",
   "id": "3ad0b344-acdf-45c4-89e9-54853db84240",
   "metadata": {},
   "source": [
    "----------------------------------------------------------------------------------------------------------------------------------------------------"
   ]
  },
  {
   "cell_type": "markdown",
   "id": "8f220e0b-73a0-4907-a7f0-042010f3abdb",
   "metadata": {},
   "source": [
    "### Büyük Sayılar Yasası"
   ]
  },
  {
   "cell_type": "code",
   "execution_count": 25,
   "id": "8e225a8f-6f3c-4552-b38f-a37edb17a1e1",
   "metadata": {
    "tags": []
   },
   "outputs": [
    {
     "name": "stdout",
     "output_type": "stream",
     "text": [
      "Atış Sayısı:  2 --- Yazı Olasılığı: 50.00\n",
      "Atış Sayısı:  4 --- Yazı Olasılığı: 0.00\n",
      "Atış Sayısı:  8 --- Yazı Olasılığı: 62.50\n",
      "Atış Sayısı:  16 --- Yazı Olasılığı: 43.75\n",
      "Atış Sayısı:  32 --- Yazı Olasılığı: 46.88\n",
      "Atış Sayısı:  64 --- Yazı Olasılığı: 56.25\n",
      "Atış Sayısı:  128 --- Yazı Olasılığı: 50.78\n",
      "Atış Sayısı:  256 --- Yazı Olasılığı: 52.73\n",
      "Atış Sayısı:  512 --- Yazı Olasılığı: 52.93\n",
      "Atış Sayısı:  1024 --- Yazı Olasılığı: 50.20\n",
      "Atış Sayısı:  2048 --- Yazı Olasılığı: 48.58\n",
      "Atış Sayısı:  4096 --- Yazı Olasılığı: 49.49\n",
      "Atış Sayısı:  8192 --- Yazı Olasılığı: 49.58\n",
      "Atış Sayısı:  16384 --- Yazı Olasılığı: 49.96\n",
      "Atış Sayısı:  32768 --- Yazı Olasılığı: 50.00\n",
      "Atış Sayısı:  65536 --- Yazı Olasılığı: 49.68\n",
      "Atış Sayısı:  131072 --- Yazı Olasılığı: 49.97\n",
      "Atış Sayısı:  262144 --- Yazı Olasılığı: 50.13\n",
      "Atış Sayısı:  524288 --- Yazı Olasılığı: 50.01\n",
      "Atış Sayısı:  1048576 --- Yazı Olasılığı: 50.09\n"
     ]
    }
   ],
   "source": [
    "rng = np.random.RandomState(123)\n",
    "for i in np.arange(1,21):\n",
    "    deney_sayisi = 2**i\n",
    "    yazi_turalar = rng.randint(0, 2, size = deney_sayisi)\n",
    "    yazi_olasiliklari = np.mean(yazi_turalar)\n",
    "    print(\"Atış Sayısı: \", deney_sayisi,\"---\",\"Yazı Olasılığı: %.2f\" % (yazi_olasiliklari * 100))"
   ]
  },
  {
   "cell_type": "markdown",
   "id": "1769b56b-7510-4d20-9546-20d41e51c5e8",
   "metadata": {},
   "source": [
    "----------------------------------------------------------------------------------------------------------------------------------------------------"
   ]
  },
  {
   "cell_type": "markdown",
   "id": "1d8bf1d2-844c-47bd-b4af-e3efc053b1e7",
   "metadata": {},
   "source": [
    "### Binom Dağılım"
   ]
  },
  {
   "cell_type": "markdown",
   "id": "f4d9fbfd-a861-41f7-8381-787d16ba4e0b",
   "metadata": {},
   "source": [
    "#### Formül: \n",
    "\n",
    "${\\displaystyle f(k;n,p) = \\binom{n}{k}p^{k}(1-p)^{1-k}\\quad   {k = 0,1,2,...,n}}$ \n",
    "\n",
    "${\\displaystyle \\operatorname {E} \\left(X\\right)=np}$ \n",
    "\n",
    "$\\operatorname {Var} [X]=np(1-p)$ "
   ]
  },
  {
   "cell_type": "markdown",
   "id": "5c732315-c3d1-4f0a-9622-0081460e62de",
   "metadata": {},
   "source": [
    "#### İş Uygulaması: Reklam Harcaması Optimizasyonu"
   ]
  },
  {
   "cell_type": "markdown",
   "id": "705298c2-0434-4364-ab54-14b31b8e5ba7",
   "metadata": {},
   "source": [
    "Problem: Çeşitli mecralara reklam veriliyor, reklamların tıklanma ve geri dönüşüm oranları optimize edilmeye çalışılıyor. Buna yönelik olarak belirli bir mecrada çeşitli senaryolara göre reklama tıklama olasılıkları hesaplanmak isteniliyor.\n",
    "* Detaylar: Bir mecrada reklam verilecek\n",
    "* Dağılım ve reklama tıklama olasılığı biliniyor (0.01)\n",
    "* Soru: Reklamı 100 kişi gördüğünde 1,5,10 tıklanması olasılığı nedir?"
   ]
  },
  {
   "cell_type": "code",
   "execution_count": 26,
   "id": "18309738-0803-4374-9130-1900b2728f66",
   "metadata": {},
   "outputs": [],
   "source": [
    "from scipy.stats import binom"
   ]
  },
  {
   "cell_type": "code",
   "execution_count": 27,
   "id": "e776ea6f-7e92-47b0-bdb0-909c78c8bbf1",
   "metadata": {},
   "outputs": [
    {
     "name": "stdout",
     "output_type": "stream",
     "text": [
      "0.36972963764972666\n",
      "0.002897787123761478\n",
      "7.006035693977194e-08\n"
     ]
    }
   ],
   "source": [
    "p = 0.01\n",
    "n = 100\n",
    "rv = binom(n,p)\n",
    "print(rv.pmf(1))\n",
    "print(rv.pmf(5))\n",
    "print(rv.pmf(10))"
   ]
  },
  {
   "cell_type": "markdown",
   "id": "452c5d94-c784-4646-a5ea-c92faaa94ab5",
   "metadata": {},
   "source": [
    "----------------------------------------------------------------------------------------------------------------------------------------------------"
   ]
  },
  {
   "cell_type": "markdown",
   "id": "3f19bb33-6292-4180-807f-05728b301fc7",
   "metadata": {},
   "source": [
    "### Poisson Dağılımı"
   ]
  },
  {
   "cell_type": "markdown",
   "id": "23c393c9-61c1-4758-889e-c6e92db7a614",
   "metadata": {},
   "source": [
    "### Formül:\n",
    "\n",
    "${\\displaystyle P(k; \\lambda) = \\frac{ \\lambda^k \\cdot e^{-\\lambda} }{k!} }\\quad  {k = 0,1,2,...,n} $    \n",
    "\n",
    "${\\displaystyle \\operatorname {E} \\left(X\\right)= \\lambda}$ \n",
    "\n",
    "$\\operatorname {Var} [X]= \\lambda$ "
   ]
  },
  {
   "cell_type": "markdown",
   "id": "50fd4a27-a790-4a75-8ff3-31a40e6ba77f",
   "metadata": {},
   "source": [
    "#### İş Uygulaması: İlan Girişi Hata Olasılıkları"
   ]
  },
  {
   "cell_type": "markdown",
   "id": "0317921c-a6ac-4dbb-8e7c-3ae964d09187",
   "metadata": {},
   "source": [
    "Problem: Hatalı ilan girişi olasılıkları hesaplanmak isteniyor.\n",
    "* Detaylar:\n",
    "* Bir yıl süresince ölçümler yapılıyor\n",
    "* Dağılım biliniyor (Poisson) ve Lambda 0.1 (ortalama hata sayısı)\n",
    "* Soru: Hiç hata olmaması, 3 hata olması ve 5 hata olması olasılıkları nedir?"
   ]
  },
  {
   "cell_type": "code",
   "execution_count": 28,
   "id": "11eab42f-d325-4c45-b6be-b6733a229ed4",
   "metadata": {},
   "outputs": [],
   "source": [
    "from scipy.stats import poisson"
   ]
  },
  {
   "cell_type": "code",
   "execution_count": 29,
   "id": "372875e6-604a-420c-b808-8167f97552b9",
   "metadata": {},
   "outputs": [],
   "source": [
    "lambda_ = 0.1"
   ]
  },
  {
   "cell_type": "code",
   "execution_count": 30,
   "id": "bf0e2158-15cd-4fd3-8c0d-bcc5419e3139",
   "metadata": {},
   "outputs": [
    {
     "name": "stdout",
     "output_type": "stream",
     "text": [
      "0.9048374180359595\n",
      "0.00015080623633932676\n",
      "7.54031181696634e-08\n"
     ]
    }
   ],
   "source": [
    "rv = poisson(mu = lambda_)\n",
    "print (rv.pmf(k = 0))\n",
    "print (rv.pmf(k = 3))\n",
    "print (rv.pmf(k = 5))"
   ]
  },
  {
   "cell_type": "markdown",
   "id": "b9b38544-7af4-4b3b-a130-77e50131c77e",
   "metadata": {},
   "source": [
    "----------------------------------------------------------------------------------------------------------------------------------------------------"
   ]
  },
  {
   "cell_type": "markdown",
   "id": "1af7ad6e-2bcb-464b-b39e-463e361b6a1e",
   "metadata": {},
   "source": [
    "### Normal Dağılım"
   ]
  },
  {
   "cell_type": "markdown",
   "id": "dc4be060-e5c3-4fb8-9428-e42629aab1c9",
   "metadata": {},
   "source": [
    "#### Formül:\n",
    "$ {\\displaystyle f(\\mathop x | \\mathop \\mu, \\sigma^2) = \\frac{1}{\\sqrt {2\\pi \\sigma^2}} \\, e^{-\\frac{(x - \\mu)^2}{2\\sigma^2}}}$\n",
    "\n",
    "* ${\\mu}$ ortalama ya da dağılımın beklenen değeri\n",
    "* ${\\sigma}$ standart sapma\n",
    "* ${\\sigma^2}$ varyans\n",
    "\n"
   ]
  },
  {
   "cell_type": "markdown",
   "id": "62933f46-1bfb-4596-ad4f-ec701af4bc9f",
   "metadata": {
    "tags": []
   },
   "source": [
    "### İş Uygulaması: Satış Olasılıklarının Hesaplanması"
   ]
  },
  {
   "cell_type": "markdown",
   "id": "628320e5-899e-4f3e-9276-7f687fdbaac5",
   "metadata": {},
   "source": [
    "Problem: Bir yatırım/toplantı öncesinde gelecek ay ile ilgili satışların belirli değerlerde gerçekleşmesi olasılıkları belirlenmek isteniyor.\n",
    "* Detaylar:\n",
    "* Dağılımın normal olduğu biliniyor\n",
    "* Aylık ortalama satış sayısı 80K, standart sapması 5K"
   ]
  },
  {
   "cell_type": "code",
   "execution_count": 31,
   "id": "4220e6c7-5d8f-4b85-8115-b245c1b5bade",
   "metadata": {},
   "outputs": [],
   "source": [
    "from scipy.stats import norm "
   ]
  },
  {
   "cell_type": "markdown",
   "id": "f9332e7b-9d8a-4276-b1ea-093b0533d21f",
   "metadata": {},
   "source": [
    "* Soru: 90K'dan fazla satış yapma olasılığı nedir?"
   ]
  },
  {
   "cell_type": "code",
   "execution_count": 32,
   "id": "d1c5a05e-fca9-4bba-bfd4-6c3869987310",
   "metadata": {
    "tags": []
   },
   "outputs": [
    {
     "data": {
      "text/plain": [
       "0.02275013194817921"
      ]
     },
     "execution_count": 32,
     "metadata": {},
     "output_type": "execute_result"
    }
   ],
   "source": [
    "1-norm.cdf(90, 80, 5)"
   ]
  },
  {
   "cell_type": "markdown",
   "id": "09775c09-587b-49d1-8cc3-3442510bb623",
   "metadata": {},
   "source": [
    "* Soru: 70K'dan fazla satış yapma olasılığı nedir?"
   ]
  },
  {
   "cell_type": "code",
   "execution_count": 33,
   "id": "787d9c14-cf9e-471b-bacb-46f304570d76",
   "metadata": {},
   "outputs": [
    {
     "data": {
      "text/plain": [
       "0.9772498680518208"
      ]
     },
     "execution_count": 33,
     "metadata": {},
     "output_type": "execute_result"
    }
   ],
   "source": [
    "1-norm.cdf(70, 80, 5)"
   ]
  },
  {
   "cell_type": "markdown",
   "id": "3c3eebfe-2f9d-489a-857c-5d30a98c6736",
   "metadata": {},
   "source": [
    "* Soru: 73K'dan az satış yapma olasılığı nedir?"
   ]
  },
  {
   "cell_type": "code",
   "execution_count": 34,
   "id": "6ae3c751-71e2-48fc-8993-ff70f397c532",
   "metadata": {},
   "outputs": [
    {
     "data": {
      "text/plain": [
       "0.08075665923377107"
      ]
     },
     "execution_count": 34,
     "metadata": {},
     "output_type": "execute_result"
    }
   ],
   "source": [
    "norm.cdf(73, 80, 5)"
   ]
  },
  {
   "cell_type": "markdown",
   "id": "2475db4f-c83b-454b-8f8c-5ff14e30ae98",
   "metadata": {},
   "source": [
    "* Soru: 85K ile 90K arasında satış yapma olasılığı nedir?"
   ]
  },
  {
   "cell_type": "code",
   "execution_count": 35,
   "id": "ab3e3a1a-2ce8-491a-8157-d2aacf7d0598",
   "metadata": {},
   "outputs": [
    {
     "data": {
      "text/plain": [
       "0.13590512198327787"
      ]
     },
     "execution_count": 35,
     "metadata": {},
     "output_type": "execute_result"
    }
   ],
   "source": [
    "norm.cdf(90, 80, 5) - norm.cdf(85, 80, 5) "
   ]
  },
  {
   "cell_type": "markdown",
   "id": "e2e31b94-2c26-4da5-96c5-c5f9692a730b",
   "metadata": {},
   "source": [
    "----------------------------------------------------------------------------------------------------------------------------------------------------"
   ]
  },
  {
   "cell_type": "markdown",
   "id": "6e8da17c-95e6-4a3e-b858-d653af6ceae2",
   "metadata": {},
   "source": [
    "# Veri Bilimi İçin İstatistik 201"
   ]
  },
  {
   "cell_type": "markdown",
   "id": "f8d7ec5a-eba2-4821-aef0-fc1e33b8f905",
   "metadata": {
    "tags": []
   },
   "source": [
    "## Tek Örneklem T Testi"
   ]
  },
  {
   "cell_type": "markdown",
   "id": "93738ccc-23cc-4d0e-ab87-52285da14d8a",
   "metadata": {
    "tags": []
   },
   "source": [
    "Örnek ortalamasına ilişkin test yapmak için kullanılır. \n",
    "\n",
    "**Hipotezler**\n",
    "\n",
    "${H_0: \\mu = 50}$\n",
    "\n",
    "${H_0: \\mu \\neq 50}$\n",
    "\n",
    "${H_0: \\mu \\leq 50}$\n",
    "\n",
    "${H_0: \\mu > 50}$\n",
    "\n",
    "${H_0: \\mu \\geq 50}$\n",
    "\n",
    "${H_0: \\mu < 50}$\n",
    "\n",
    "\n",
    "### Test İstatistiği \n",
    "#### Formül:\n",
    "\n",
    "$ Z = \\frac{\\bar{x} - \\mu_0}{\\frac{\\mathrm{\\textbf{s}}}{\\sqrt{n}}} $\n",
    "\n",
    "\n"
   ]
  },
  {
   "cell_type": "markdown",
   "id": "1b200afd-75dd-445f-89b3-df5e553535d5",
   "metadata": {},
   "source": [
    "----------------------------------------------------------------------------------------------------------------------------------------------------"
   ]
  },
  {
   "cell_type": "markdown",
   "id": "b79efa43-b528-4c5a-a233-bcdb13943fca",
   "metadata": {
    "tags": []
   },
   "source": [
    "### İş Uygulaması: Web Sitesinde Geçirilen Sürenin Testi"
   ]
  },
  {
   "cell_type": "markdown",
   "id": "6b0b9635-4201-4b42-8a31-b66c5d3661e5",
   "metadata": {},
   "source": [
    "Problem:\n",
    "Web sitemizde geçirilen ortalama süre gerçekten 170 saniye mi?\n",
    "\n",
    "* Detaylar:\n",
    "* Yazılımlardan elde edilen web sitesinde geçirilen ort. süreler var.\n",
    "* Bu veriler incelendiğinde bir yönetici ya da çalışanımız bu değerlerin böyle olmadığına yönelik düşünceler taşıyor ve bu durumu test etmek istiyorlar."
   ]
  },
  {
   "cell_type": "code",
   "execution_count": 36,
   "id": "51c82030-6a56-445e-8c4c-564d9c7d5f3d",
   "metadata": {},
   "outputs": [],
   "source": [
    "olcumler = np.array ([17, 160, 234, 149, 145, 107, 197, 75, 201, 225, 211, 119,\n",
    "                     157, 145, 127, 244, 163, 114, 145, 65, 112, 185, 202, 146, \n",
    "                     203, 224, 203, 114, 188, 156, 187, 154, 177, 95, 165, 50, 110,\n",
    "                     216, 138, 151, 166, 135, 155, 84, 251, 173, 131, 207, 121, 120 ])"
   ]
  },
  {
   "cell_type": "code",
   "execution_count": 37,
   "id": "5b7ba4a7-c491-43b4-b6ab-8155baff60ff",
   "metadata": {},
   "outputs": [
    {
     "data": {
      "text/plain": [
       "array([ 17, 160, 234, 149, 145, 107, 197,  75, 201, 225])"
      ]
     },
     "execution_count": 37,
     "metadata": {},
     "output_type": "execute_result"
    }
   ],
   "source": [
    "olcumler[0:10]"
   ]
  },
  {
   "cell_type": "code",
   "execution_count": 38,
   "id": "ac6027cf-a3fe-4c19-ab2a-a6538209b36f",
   "metadata": {},
   "outputs": [],
   "source": [
    "import scipy.stats as stats"
   ]
  },
  {
   "cell_type": "code",
   "execution_count": 39,
   "id": "99af1c67-8701-4a6f-8f64-e494df084c7f",
   "metadata": {},
   "outputs": [
    {
     "data": {
      "text/plain": [
       "DescribeResult(nobs=50, minmax=(17, 251), mean=154.38, variance=2578.0363265306123, skewness=-0.32398897278694483, kurtosis=-0.05849823498415985)"
      ]
     },
     "execution_count": 39,
     "metadata": {},
     "output_type": "execute_result"
    }
   ],
   "source": [
    "stats.describe(olcumler)   # Burda ort 154 çıktı fakat bu şansa da oluşmuş olabilir. Bu yüzden bir hipotez oluşturacağız. "
   ]
  },
  {
   "cell_type": "markdown",
   "id": "dd88f9ba-05e4-469d-8dc3-377e6218598b",
   "metadata": {},
   "source": [
    "* Varsayımlar \n",
    "#### Tek Örneklem T Testi Varsayımı: Normal varsayım"
   ]
  },
  {
   "cell_type": "code",
   "execution_count": 40,
   "id": "8581f6b8-5ad0-44d5-8992-eea1128af430",
   "metadata": {},
   "outputs": [
    {
     "data": {
      "image/png": "[encoded data removed]",
      "text/plain": [
       "<Figure size 640x480 with 1 Axes>"
      ]
     },
     "metadata": {},
     "output_type": "display_data"
    }
   ],
   "source": [
    "# Histogram \n",
    "\n",
    "pd.DataFrame(olcumler).plot.hist();"
   ]
  },
  {
   "cell_type": "code",
   "execution_count": 41,
   "id": "81e75bed-49a7-467b-8cbd-7a0e53114cbb",
   "metadata": {},
   "outputs": [
    {
     "data": {
      "image/png": "[encoded data removed]",
      "text/plain": [
       "<Figure size 640x480 with 1 Axes>"
      ]
     },
     "metadata": {},
     "output_type": "display_data"
    }
   ],
   "source": [
    "# qqplot \n",
    "\n",
    "import pylab\n",
    "stats.probplot(olcumler, dist = \"norm\", plot = pylab)\n",
    "pylab.show()"
   ]
  },
  {
   "cell_type": "code",
   "execution_count": 42,
   "id": "9a9adbfc-5661-41f7-8687-7a0412f609ac",
   "metadata": {},
   "outputs": [],
   "source": [
    "# Shapiro-Wikls Testi:"
   ]
  },
  {
   "cell_type": "markdown",
   "id": "cbc0fbb9-7339-4e3a-b005-a798e1817ae3",
   "metadata": {},
   "source": [
    "$H_0:$ Örnek dağılım ile teorik normal dağılım arasında istatistiksel olarak anlamlı bir farklılık yoktur. \n",
    "\n",
    "$H_1:$ Örnek dağılım ile teorik normal dağılım arasında istatistiksel olarak anlamlı bir farklılık vardır. "
   ]
  },
  {
   "cell_type": "code",
   "execution_count": 43,
   "id": "0b49e608-d5b4-46df-a61d-50ac64745bc9",
   "metadata": {},
   "outputs": [],
   "source": [
    "from scipy.stats import shapiro"
   ]
  },
  {
   "cell_type": "code",
   "execution_count": 44,
   "id": "f98dcb97-1e92-42af-9aa1-2806baa41f1f",
   "metadata": {},
   "outputs": [
    {
     "data": {
      "text/plain": [
       "ShapiroResult(statistic=0.9853101372718811, pvalue=0.7848551869392395)"
      ]
     },
     "execution_count": 44,
     "metadata": {},
     "output_type": "execute_result"
    }
   ],
   "source": [
    "shapiro(olcumler)"
   ]
  },
  {
   "cell_type": "markdown",
   "id": "957e19b6-dd49-4d01-a670-92320a015013",
   "metadata": {},
   "source": [
    "#### Tek Örneklem T Testinin Hipotezinin Uygulanması"
   ]
  },
  {
   "cell_type": "code",
   "execution_count": 45,
   "id": "60fc02fc-d146-4da1-906f-94f71cf3bc0f",
   "metadata": {},
   "outputs": [
    {
     "data": {
      "text/plain": [
       "TtestResult(statistic=-2.1753117985877966, pvalue=0.034460415195071446, df=49)"
      ]
     },
     "execution_count": 45,
     "metadata": {},
     "output_type": "execute_result"
    }
   ],
   "source": [
    "stats.ttest_1samp(olcumler, popmean = 170)"
   ]
  },
  {
   "cell_type": "markdown",
   "id": "73d02893-dd2e-485a-a8a7-c9acff908fd0",
   "metadata": {},
   "source": [
    "$H_0:$ Web sitemizde geçirilen süre ortalama süre 170 sn'dir.\n",
    "\n",
    "$H_1:$ Web sitemizde geçirilen süre ortalama süre 170 sn değildir."
   ]
  },
  {
   "cell_type": "markdown",
   "id": "e8e6668a-28a3-4399-8f01-31e254cf9595",
   "metadata": {},
   "source": [
    "#### Nonparametrik Tek Örneklem Testi"
   ]
  },
  {
   "cell_type": "code",
   "execution_count": 46,
   "id": "a12c24bd-b59d-44cb-abb7-12cd9bc7c689",
   "metadata": {},
   "outputs": [],
   "source": [
    "from statsmodels.stats.descriptivestats import sign_test"
   ]
  },
  {
   "cell_type": "code",
   "execution_count": 47,
   "id": "30d35cc4-5abc-400c-aa52-e7f886ae9fe2",
   "metadata": {},
   "outputs": [
    {
     "data": {
      "text/plain": [
       "(-7.0, 0.06490864707227217)"
      ]
     },
     "execution_count": 47,
     "metadata": {},
     "output_type": "execute_result"
    }
   ],
   "source": [
    "sign_test(olcumler, 170)"
   ]
  },
  {
   "cell_type": "markdown",
   "id": "ea4ed636",
   "metadata": {},
   "source": [
    "Bu ölçüme göre \"p-value < $\\alpha$\" olduğu için $H_0$ Hipotezi reddedilir. Bu sonuç ortalama süre 170'den küçük sonucuna vardırır."
   ]
  },
  {
   "cell_type": "markdown",
   "id": "5c1df2f6-c7e1-4180-9f79-738584bfddbe",
   "metadata": {},
   "source": [
    "----------------------------------------------------------------------------------------------------------------------------------------------------"
   ]
  },
  {
   "cell_type": "markdown",
   "id": "600cfd46-4c7c-4728-82fb-ac7b46eb5327",
   "metadata": {},
   "source": [
    "#### Tek Örneklem Oran Testi"
   ]
  },
  {
   "cell_type": "markdown",
   "id": "6dfd1dca-bae8-4258-9b20-1f5f106bb9f7",
   "metadata": {},
   "source": [
    "* Oransal bir ifade test edilmek istenildiğinde kullanılır.\n",
    "\n",
    "* Hipotezler:\n",
    "\n",
    "${H_0: p = p_0}$\n",
    "\n",
    "${H_1: p \\neq p_0}$\n",
    "\n",
    "${H_0: p \\leq p_0}$\n",
    "\n",
    "${H_1: p > p_0}$\n",
    "\n",
    "${H_0: p \\geq p_0}$\n",
    "\n",
    "${H_1: p < p_0}$"
   ]
  },
  {
   "cell_type": "markdown",
   "id": "7f02be99-e54d-4006-8e25-1e2e52ca817b",
   "metadata": {},
   "source": [
    "#### Formül: \n",
    "\n",
    "$ z = \\frac{\\hat{p} - p_0}{\\sqrt{\\frac{p_0  (1 - p_0)}{n}}} $"
   ]
  },
  {
   "cell_type": "markdown",
   "id": "2c4a77b5-8905-4c5b-9867-f7ad51874a7f",
   "metadata": {},
   "source": [
    "----------------------------------------------------------------------------------------------------------------------------------------------------"
   ]
  },
  {
   "cell_type": "markdown",
   "id": "cf430ddf-856d-4cf0-808f-48216f60d515",
   "metadata": {},
   "source": [
    "### İş Uygulaması: Dönüşüm Oranı Testi"
   ]
  },
  {
   "cell_type": "markdown",
   "id": "d0116dfd-e8dc-4ebd-8e8e-bca62a6ce361",
   "metadata": {},
   "source": [
    "* Örneğin web sitesinde bir ürün satıyorsunuz. Bu ürünü 100 kişi gördü fakat 1 kişi aldı diyelim. Bu durumda dönüşüm oranı 1/100'dür. Yani 0,01'dir. Veya bu bir reklam olarak da düşünülebilir. Dönüşüm Oranı; Click, True, Reyt vb. kavramlarla değerlendirilebilir. \n",
    "* Bizim için Dönüşüm Oranı: \"İlgilenilen olay / O olayı gerçekleştirmek üzere o duruma maruz kalan kişi sayısı\". Yani \"reklama tıklayan kişi sayısı / o reklamı gören kişi sayısı\". "
   ]
  },
  {
   "cell_type": "markdown",
   "id": "9439847f-1b0c-4b1e-9a14-2ade0c7a0631",
   "metadata": {},
   "source": [
    "#### Problem: \n",
    "* Bir yazılım ile bir mecrada reklam verilmiş ve bu reklama ilişkin yazılım tarafından 0.125 dönüşüm oranı elde edildiği ifade edilmiş. Fakat bu durum kontrol edilmek isteniyor. Çünkü bu yüksek bir oran ve gelirler incelendiğinde örtüşmüyor."
   ]
  },
  {
   "cell_type": "markdown",
   "id": "cb781fbc-68ad-4dde-b458-936a7854b866",
   "metadata": {},
   "source": [
    "#### Detaylar:\n",
    "* 500 kişi dış mecrada reklamlara tıklamış, 40 tanesi sitemize gelip alişveriş yapmış.\n",
    "* Örnek üzerinden elde edilen dönüşüm oranı: 40/500 = 0,08\n",
    "* Not: \".\" python ile ingilizce de ondalıklı sayı anlamına geliyor. \",\" ise türkçede ondalıklı sayı anlamında."
   ]
  },
  {
   "cell_type": "markdown",
   "id": "538db984-61ee-4704-9987-266836a5329b",
   "metadata": {},
   "source": [
    "##### Hipotezler: \n",
    "${H_0: p = 0.125}$\n",
    "\n",
    "${H_1: p \\neq 0.125}$"
   ]
  },
  {
   "cell_type": "code",
   "execution_count": 48,
   "id": "e550f161-a9a2-4595-ac55-8d9e19f458b6",
   "metadata": {
    "tags": []
   },
   "outputs": [],
   "source": [
    "from statsmodels.stats.proportion import proportions_ztest"
   ]
  },
  {
   "cell_type": "code",
   "execution_count": 49,
   "id": "b2f85d44-d45b-4d43-a51f-a5a6130cf78b",
   "metadata": {
    "tags": []
   },
   "outputs": [],
   "source": [
    "count = 40      # Başarı sayımız. Detaylar kısmında verilmiş.\n",
    "nobs = 500      # Gözlem sayımız. Detaylar kısmında verilmiş.\n",
    "value = 0.125   # Test etmek istediğimiz değerimiz."
   ]
  },
  {
   "cell_type": "code",
   "execution_count": 50,
   "id": "c3ddf561-6f5c-45f4-9b0b-1dbf92b5a290",
   "metadata": {
    "tags": []
   },
   "outputs": [
    {
     "data": {
      "text/plain": [
       "(-3.7090151628513017, 0.0002080669689845979)"
      ]
     },
     "execution_count": 50,
     "metadata": {},
     "output_type": "execute_result"
    }
   ],
   "source": [
    "proportions_ztest(count, nobs, value)  # Bu fonk. içine ilk argümanda başarı sayısını, ikincisinde gözlem sayısını ve üçüncüde test edilmek istenen değeri yazıyoruz.\n",
    "\n",
    "# aşağıda iki sonuç çıktı. İlki z-test istatistiği, ikincisi ise p-value değerimiz."
   ]
  },
  {
   "cell_type": "markdown",
   "id": "1ffc5a31-df3d-4ccd-9146-c23d8eaa6241",
   "metadata": {},
   "source": [
    "Bu sonuca göre \"p-value > $\\alpha$\" olduğundan dolayı ${H_0}$ Hipotezi reddedilir. ${H_0}$ Hipotez değerimiz 0.125'di. Yaptığımız teste göre bu değer yanlış bir değerdir."
   ]
  },
  {
   "cell_type": "markdown",
   "id": "f0242751-fd35-4f95-abfb-e8850fa6028a",
   "metadata": {},
   "source": [
    "----------------------------------------------------------------------------------------------------------------------------------------------------"
   ]
  },
  {
   "cell_type": "markdown",
   "id": "c6b3b4fb-dfe9-40a1-b375-c442c2b5478e",
   "metadata": {},
   "source": [
    "## Bağımsız İki Örneklem T Testi (AB Testi) Teorisi"
   ]
  },
  {
   "cell_type": "markdown",
   "id": "f74e32ba-8a39-4077-b63d-2defa62bd813",
   "metadata": {},
   "source": [
    "* Tanım: İki grup ortalaması arasında karşılaştırma yapılmak istenildiğinde kullanılır. \n",
    "* Terminolojik Tanımı: Elimizde gerçek değerlerini bilmediğimiz iki tane ana kitle parametresi var. Fakat bunlar ana kitlelerin ortalamaları. Biz bu ortalamaların birbirinden farkını inceliyoruz. Buna yönelik olarak elde ettiğmiz örneklemler üzerinden karşılalaştırma yapmamız gerekiyor. İşte biz bunları iki grup ortalamasına indirgemiş oluyoruz. Yani elimizde örnek ortalaması olacak. Bunlar arasındaki farkı test edip gerçekte bilmediğimiz ana kitlenin değerlerine ilişkin bu bir farkın istatistiksel olarak var olup olmadığını değerlendirmiş olucaz. "
   ]
  },
  {
   "cell_type": "markdown",
   "id": "5d5a1f79-17e3-408c-9eb2-f0fffb39af59",
   "metadata": {},
   "source": [
    "#### Hipotezler\n",
    "\n",
    "${H_0: \\mu_1 = \\mu_2}$\n",
    "\n",
    "${H_1: \\mu_1 \\neq \\mu_2}$\n",
    "\n",
    "${H_0: \\mu_1 \\leq \\mu_2}$\n",
    "\n",
    "${H_1: \\mu_1 > \\mu_2}$\n",
    "\n",
    "${H_0: \\mu_1 \\geq \\mu_2}$\n",
    "\n",
    "${H_1: \\mu_1 < \\mu_2}$\n"
   ]
  },
  {
   "cell_type": "markdown",
   "id": "b3ad5055-3199-44eb-8053-71704a712aa6",
   "metadata": {
    "tags": []
   },
   "source": [
    "#### Ana Formül: \n",
    "\n",
    "$$t = \\frac{\\bar{X}_1 - \\bar{X}_2}{\\sqrt{\\frac{S_1^2}{n_1} + \\frac{S_2^2}{n_2}}}$$\n",
    "\n",
    "#### 1.Durum: Örnek sayıları aynı, varyanslar homojen ise;\n",
    "\n",
    "$$t = \\frac{\\bar{X}_1 - \\bar{X}_2}{S_p \\sqrt{\\frac{2}{n}}}  ,   S_p = \\sqrt{\\frac{S^2(x_1) + S^2(x_2)}{2}}$$\n",
    "\n",
    "#### 2.Durum: Örnek sayıları farklı, varyanslar homojen ise;\n",
    "\n",
    "$$ t = \\frac{\\bar{X}_1 - \\bar{X}_2}{S_p \\sqrt{\\frac{1}{n_1} + \\frac{1}{n_2}}}   ,   S_p = \\sqrt{\\frac{(n_1 - 1)s^2x_1 + (n_2 - 1)s^2x_2}{n_1 + n_2 - 2}}$$\n",
    "\n",
    "#### 3.Durum: Örnek sayıları farklı, varyanslar homojen değilse;\n",
    "\n",
    "$$t = \\frac{\\bar{X}_1 - \\bar{X}_2}{\\sqrt{\\frac{S_1^2}{n_1} + \\frac{S_2^2}{n_2}}}$$"
   ]
  },
  {
   "cell_type": "markdown",
   "id": "71abfffe-e15f-486d-9b70-fb9762fa5df9",
   "metadata": {},
   "source": [
    "### !!! Önemli Not: Son iki Formül için örnek sayıları eşit olması durumunda da hesaplamalar yapılabilir. \n",
    "### !!! 3.Durum İçin Not: 3.Durum \"Welch Testi\" olarak geçer."
   ]
  },
  {
   "cell_type": "markdown",
   "id": "bb74a401-ef30-4147-8325-6ba163a6a153",
   "metadata": {
    "tags": []
   },
   "source": [
    "#### Varsayımlar: \n",
    "* Normallik\n",
    "* Varyans Homojenliği"
   ]
  },
  {
   "cell_type": "markdown",
   "id": "3c3952df-fd69-4ca8-973c-c88f73bf6117",
   "metadata": {},
   "source": [
    "----------------------------------------------------------------------------------------------------------------------------------------------------"
   ]
  },
  {
   "cell_type": "markdown",
   "id": "946905b6-a73c-42e7-a4fc-34eb4f41070a",
   "metadata": {},
   "source": [
    "### İş Uygulaması: ML Modelinin Başarı Testi\n",
    "#### Problem: \n",
    "* Bir ML projesine yatırım yapılmış. Ürettiği tahminler neticesinde oluşan gelir ile eski sistemin ürettiği gelirler karşılaştırılıp anlamlı farklılık olup olmadığı test edilmek isteniyor.\n",
    "\n",
    "#### Detaylar:\n",
    "* Model geliştirilmiş ve web sitesine entegre edilmiş.\n",
    "* Site kullanıcıları belirli bir kurala göre ikiye bölünmüş olsun.\n",
    "* A grubu eski B grubu yeni sistem.\n",
    "* Gelir anlamında anlamlı bir iş yapılıp yapılmadığı test edilmek isteniyor."
   ]
  },
  {
   "cell_type": "markdown",
   "id": "89965fae-a109-4cb7-b1ec-ab38f95d9bc8",
   "metadata": {},
   "source": [
    "#### Hipotezler\n",
    "\n",
    "${H_0: \\mu_1 = \\mu_2}$\n",
    "\n",
    "${H_1: \\mu_1 \\neq \\mu_2}$"
   ]
  },
  {
   "cell_type": "code",
   "execution_count": 51,
   "id": "3b07fa1e-e88b-4a21-aee8-70b597ec890f",
   "metadata": {
    "tags": []
   },
   "outputs": [],
   "source": [
    "# VERI TIPI I"
   ]
  },
  {
   "cell_type": "code",
   "execution_count": 52,
   "id": "94d68caa-bfe6-4da8-a97d-6ab0a3b13104",
   "metadata": {
    "tags": []
   },
   "outputs": [
    {
     "data": {
      "text/html": [
       "<div>\n",
       "<style scoped>\n",
       "    .dataframe tbody tr th:only-of-type {\n",
       "        vertical-align: middle;\n",
       "    }\n",
       "\n",
       "    .dataframe tbody tr th {\n",
       "        vertical-align: top;\n",
       "    }\n",
       "\n",
       "    .dataframe thead th {\n",
       "        text-align: right;\n",
       "    }\n",
       "</style>\n",
       "<table border=\"1\" class=\"dataframe\">\n",
       "  <thead>\n",
       "    <tr style=\"text-align: right;\">\n",
       "      <th></th>\n",
       "      <th>A</th>\n",
       "      <th>B</th>\n",
       "    </tr>\n",
       "  </thead>\n",
       "  <tbody>\n",
       "    <tr>\n",
       "      <th>0</th>\n",
       "      <td>30</td>\n",
       "      <td>37.0</td>\n",
       "    </tr>\n",
       "    <tr>\n",
       "      <th>1</th>\n",
       "      <td>27</td>\n",
       "      <td>39.0</td>\n",
       "    </tr>\n",
       "    <tr>\n",
       "      <th>2</th>\n",
       "      <td>21</td>\n",
       "      <td>31.0</td>\n",
       "    </tr>\n",
       "    <tr>\n",
       "      <th>3</th>\n",
       "      <td>27</td>\n",
       "      <td>31.0</td>\n",
       "    </tr>\n",
       "    <tr>\n",
       "      <th>4</th>\n",
       "      <td>29</td>\n",
       "      <td>34.0</td>\n",
       "    </tr>\n",
       "  </tbody>\n",
       "</table>\n",
       "</div>"
      ],
      "text/plain": [
       "    A     B\n",
       "0  30  37.0\n",
       "1  27  39.0\n",
       "2  21  31.0\n",
       "3  27  31.0\n",
       "4  29  34.0"
      ]
     },
     "execution_count": 52,
     "metadata": {},
     "output_type": "execute_result"
    }
   ],
   "source": [
    "A = pd.DataFrame([ 30, 27, 21, 27, 29, 30, 20, 20, 27, 32, 35, 22, 24, 23, 25, 27, 23, 27, 23, \n",
    "            25, 21, 18, 24, 26, 33, 26, 27, 28, 19, 25])\n",
    "\n",
    "B = pd.DataFrame([ 37, 39, 31, 31, 34, 38, 30, 36, 29, 28, 38, 28, 37, 37, 30, 32, 31, 31, 27, \n",
    "            32, 33, 33, 33, 31, 32, 26, 32, 33, 29])\n",
    "\n",
    "A_B = pd.concat([A, B], axis = 1)\n",
    "A_B.columns = [\"A\", \"B\"]\n",
    "\n",
    "A_B.head()"
   ]
  },
  {
   "cell_type": "code",
   "execution_count": 53,
   "id": "02a200ff-5275-45f4-a91b-8cd094b2e19b",
   "metadata": {
    "tags": []
   },
   "outputs": [],
   "source": [
    "# VERI TIPI II"
   ]
  },
  {
   "cell_type": "code",
   "execution_count": 54,
   "id": "55dcf377-67c8-4d32-93b0-fc2c5702e626",
   "metadata": {
    "tags": []
   },
   "outputs": [
    {
     "name": "stdout",
     "output_type": "stream",
     "text": [
      "   gelir GRUP\n",
      "0     30    A\n",
      "1     27    A\n",
      "2     21    A\n",
      "3     27    A\n",
      "4     29    A\n",
      "    gelir GRUP\n",
      "24     32    B\n",
      "25     26    B\n",
      "26     32    B\n",
      "27     33    B\n",
      "28     29    B\n"
     ]
    }
   ],
   "source": [
    "A = pd.DataFrame([ 30, 27, 21, 27, 29, 30, 20, 20, 27, 32, 35, 22, 24, 23, 25, 27, 23, 27, 23, \n",
    "            25, 21, 18, 24, 26, 33, 26, 27, 28, 19, 25])\n",
    "\n",
    "B = pd.DataFrame([ 37, 39, 31, 31, 34, 38, 30, 36, 29, 28, 38, 28, 37, 37, 30, 32, 31, 31, 27, \n",
    "            32, 33, 33, 33, 31, 32, 26, 32, 33, 29])\n",
    "\n",
    "# A ve A'nın Grubu \n",
    "GRUP_A = np.arange(len(A))\n",
    "GRUP_A = pd.DataFrame(GRUP_A)\n",
    "GRUP_A[:] = \"A\"\n",
    "A = pd.concat([A, GRUP_A], axis = 1)\n",
    "\n",
    "# B ve B'nin Grubu \n",
    "GRUP_B = np.arange(len(B))\n",
    "GRUP_B = pd.DataFrame(GRUP_B)\n",
    "GRUP_B[:] = \"B\"\n",
    "B = pd.concat([B, GRUP_B], axis = 1)\n",
    "\n",
    "# Tüm Veri\n",
    "AB = pd.concat([A,B])\n",
    "AB.columns = [\"gelir\", \"GRUP\"] \n",
    "print(AB.head())\n",
    "print(AB.tail())\n"
   ]
  },
  {
   "cell_type": "code",
   "execution_count": 55,
   "id": "83bcd576-45ae-4cdb-abae-e29f2b405e54",
   "metadata": {
    "tags": []
   },
   "outputs": [
    {
     "data": {
      "image/png": "[encoded data removed]",
      "text/plain": [
       "<Figure size 640x480 with 1 Axes>"
      ]
     },
     "metadata": {},
     "output_type": "display_data"
    }
   ],
   "source": [
    "# Yukarıdaki verinin mevcut yapısını görselleştirme:\n",
    "\n",
    "sns.boxplot(x = \"GRUP\", y = \"gelir\", data = AB);"
   ]
  },
  {
   "cell_type": "markdown",
   "id": "d3af7beb-9a75-4116-a235-f9aac029cd73",
   "metadata": {},
   "source": [
    "----------------------------------------------------------------------------------------------------------------------------------------------------"
   ]
  },
  {
   "cell_type": "markdown",
   "id": "ed131b69-41b5-467a-a2c4-7a3550744917",
   "metadata": {},
   "source": [
    "### Bağımsız İki Örneklem T Testi Varsayım Kontrolü"
   ]
  },
  {
   "cell_type": "markdown",
   "id": "c33e84b0-77ca-4e11-a524-1edc0b30a277",
   "metadata": {},
   "source": [
    "#### Varsayım Kontrolü "
   ]
  },
  {
   "cell_type": "code",
   "execution_count": 56,
   "id": "808bc56f-652f-48bd-b50a-b739c2e477e9",
   "metadata": {
    "tags": []
   },
   "outputs": [
    {
     "data": {
      "text/html": [
       "<div>\n",
       "<style scoped>\n",
       "    .dataframe tbody tr th:only-of-type {\n",
       "        vertical-align: middle;\n",
       "    }\n",
       "\n",
       "    .dataframe tbody tr th {\n",
       "        vertical-align: top;\n",
       "    }\n",
       "\n",
       "    .dataframe thead th {\n",
       "        text-align: right;\n",
       "    }\n",
       "</style>\n",
       "<table border=\"1\" class=\"dataframe\">\n",
       "  <thead>\n",
       "    <tr style=\"text-align: right;\">\n",
       "      <th></th>\n",
       "      <th>A</th>\n",
       "      <th>B</th>\n",
       "    </tr>\n",
       "  </thead>\n",
       "  <tbody>\n",
       "    <tr>\n",
       "      <th>0</th>\n",
       "      <td>30</td>\n",
       "      <td>37.0</td>\n",
       "    </tr>\n",
       "    <tr>\n",
       "      <th>1</th>\n",
       "      <td>27</td>\n",
       "      <td>39.0</td>\n",
       "    </tr>\n",
       "    <tr>\n",
       "      <th>2</th>\n",
       "      <td>21</td>\n",
       "      <td>31.0</td>\n",
       "    </tr>\n",
       "    <tr>\n",
       "      <th>3</th>\n",
       "      <td>27</td>\n",
       "      <td>31.0</td>\n",
       "    </tr>\n",
       "    <tr>\n",
       "      <th>4</th>\n",
       "      <td>29</td>\n",
       "      <td>34.0</td>\n",
       "    </tr>\n",
       "  </tbody>\n",
       "</table>\n",
       "</div>"
      ],
      "text/plain": [
       "    A     B\n",
       "0  30  37.0\n",
       "1  27  39.0\n",
       "2  21  31.0\n",
       "3  27  31.0\n",
       "4  29  34.0"
      ]
     },
     "execution_count": 56,
     "metadata": {},
     "output_type": "execute_result"
    }
   ],
   "source": [
    "A_B.head()           # A ve B gruplarındaki değerlerin ayrı sütunlarda yer aldığı veri seti."
   ]
  },
  {
   "cell_type": "code",
   "execution_count": 57,
   "id": "35abb47c-7db9-47af-a0b3-1d4103a966b9",
   "metadata": {
    "tags": []
   },
   "outputs": [
    {
     "data": {
      "text/html": [
       "<div>\n",
       "<style scoped>\n",
       "    .dataframe tbody tr th:only-of-type {\n",
       "        vertical-align: middle;\n",
       "    }\n",
       "\n",
       "    .dataframe tbody tr th {\n",
       "        vertical-align: top;\n",
       "    }\n",
       "\n",
       "    .dataframe thead th {\n",
       "        text-align: right;\n",
       "    }\n",
       "</style>\n",
       "<table border=\"1\" class=\"dataframe\">\n",
       "  <thead>\n",
       "    <tr style=\"text-align: right;\">\n",
       "      <th></th>\n",
       "      <th>gelir</th>\n",
       "      <th>GRUP</th>\n",
       "    </tr>\n",
       "  </thead>\n",
       "  <tbody>\n",
       "    <tr>\n",
       "      <th>0</th>\n",
       "      <td>30</td>\n",
       "      <td>A</td>\n",
       "    </tr>\n",
       "    <tr>\n",
       "      <th>1</th>\n",
       "      <td>27</td>\n",
       "      <td>A</td>\n",
       "    </tr>\n",
       "    <tr>\n",
       "      <th>2</th>\n",
       "      <td>21</td>\n",
       "      <td>A</td>\n",
       "    </tr>\n",
       "    <tr>\n",
       "      <th>3</th>\n",
       "      <td>27</td>\n",
       "      <td>A</td>\n",
       "    </tr>\n",
       "    <tr>\n",
       "      <th>4</th>\n",
       "      <td>29</td>\n",
       "      <td>A</td>\n",
       "    </tr>\n",
       "  </tbody>\n",
       "</table>\n",
       "</div>"
      ],
      "text/plain": [
       "   gelir GRUP\n",
       "0     30    A\n",
       "1     27    A\n",
       "2     21    A\n",
       "3     27    A\n",
       "4     29    A"
      ]
     },
     "execution_count": 57,
     "metadata": {},
     "output_type": "execute_result"
    }
   ],
   "source": [
    "AB.head()          # Gelirin kendi sütununda olduğu ve gruplarında kendi sütununa indirgendiği veri seti."
   ]
  },
  {
   "cell_type": "code",
   "execution_count": 58,
   "id": "a9d11893-2d2b-4ee2-ae49-94fa9320a91d",
   "metadata": {
    "tags": []
   },
   "outputs": [],
   "source": [
    "# Normallik Varsayımı"
   ]
  },
  {
   "cell_type": "code",
   "execution_count": 59,
   "id": "53b4955a-94d9-4e5c-903a-27507ba01270",
   "metadata": {
    "tags": []
   },
   "outputs": [],
   "source": [
    "from scipy.stats import shapiro"
   ]
  },
  {
   "cell_type": "code",
   "execution_count": 60,
   "id": "a6c7b542-5e74-4d7a-8c11-18b1ffaee433",
   "metadata": {
    "tags": []
   },
   "outputs": [
    {
     "data": {
      "text/plain": [
       "ShapiroResult(statistic=0.9789243936538696, pvalue=0.7962851524353027)"
      ]
     },
     "execution_count": 60,
     "metadata": {},
     "output_type": "execute_result"
    }
   ],
   "source": [
    "shapiro(A_B.A)"
   ]
  },
  {
   "cell_type": "code",
   "execution_count": 61,
   "id": "2f6c511d-2a34-4668-b89b-39f4ae4aed99",
   "metadata": {
    "tags": []
   },
   "outputs": [
    {
     "data": {
      "text/plain": [
       "ShapiroResult(statistic=nan, pvalue=1.0)"
      ]
     },
     "execution_count": 61,
     "metadata": {},
     "output_type": "execute_result"
    }
   ],
   "source": [
    "shapiro(A_B.B)"
   ]
  },
  {
   "cell_type": "markdown",
   "id": "3f4b0c2d-f760-4cc8-8e39-86a26a9cdde3",
   "metadata": {},
   "source": [
    "#### Hipotezler:\n",
    "\n",
    "${H_0: Varyanslar\\quad Homojendir} $\n",
    "\n",
    "${H_1: Varyanslar\\quad Homojen\\quad  degildir} $"
   ]
  },
  {
   "cell_type": "code",
   "execution_count": 62,
   "id": "dd035b83-7468-47f8-8b63-4ad331e28e0e",
   "metadata": {},
   "outputs": [
    {
     "data": {
      "text/plain": [
       "LeveneResult(statistic=nan, pvalue=nan)"
      ]
     },
     "execution_count": 62,
     "metadata": {},
     "output_type": "execute_result"
    }
   ],
   "source": [
    "stats.levene(A_B.B,  A_B.A)"
   ]
  },
  {
   "cell_type": "markdown",
   "id": "8d2043c1-61f2-40c2-8e69-25150336a5d0",
   "metadata": {},
   "source": [
    "----------------------------------------------------------------------------------------------------------------------------------------------------"
   ]
  },
  {
   "cell_type": "markdown",
   "id": "a3b500c3-d446-49cc-8151-7bf5fd7dc88a",
   "metadata": {},
   "source": [
    "### Bağımsız İki Örneklem T Testi Uygulaması \n",
    "\n",
    "#### Hipotez Testi"
   ]
  },
  {
   "cell_type": "code",
   "execution_count": 63,
   "id": "5a720f24-b446-4a2e-ba6f-1a16db46b7a1",
   "metadata": {},
   "outputs": [
    {
     "data": {
      "text/plain": [
       "Ttest_indResult(statistic=nan, pvalue=nan)"
      ]
     },
     "execution_count": 63,
     "metadata": {},
     "output_type": "execute_result"
    }
   ],
   "source": [
    "stats.ttest_ind(A_B[\"A\"], A_B[\"B\"], equal_var = True )"
   ]
  },
  {
   "cell_type": "code",
   "execution_count": 64,
   "id": "2190a15e-40ab-4903-96e5-117130c7c3c5",
   "metadata": {},
   "outputs": [
    {
     "name": "stdout",
     "output_type": "stream",
     "text": [
      "Test İstatistiği = nan, p-değeri = nan\n"
     ]
    }
   ],
   "source": [
    "test_istatistigi, pvalue = stats.ttest_ind(A_B[\"A\"], A_B[\"B\"], equal_var = True )\n",
    "print(\"Test İstatistiği = %.4f, p-değeri = %.4f\" % (test_istatistigi, pvalue))"
   ]
  },
  {
   "cell_type": "markdown",
   "id": "4c77e6db-b680-4fa6-af07-8ddd56ae37c4",
   "metadata": {},
   "source": [
    "### Nonparametrik Bağımsız İki Örneklem Testi"
   ]
  },
  {
   "cell_type": "code",
   "execution_count": 65,
   "id": "a535d93c-d9d2-4f4e-94ac-b61c1c6c810a",
   "metadata": {
    "tags": []
   },
   "outputs": [
    {
     "data": {
      "text/plain": [
       "MannwhitneyuResult(statistic=nan, pvalue=nan)"
      ]
     },
     "execution_count": 65,
     "metadata": {},
     "output_type": "execute_result"
    }
   ],
   "source": [
    "stats.mannwhitneyu(A_B[\"A\"], A_B[\"B\"])"
   ]
  },
  {
   "cell_type": "code",
   "execution_count": 66,
   "id": "8bf282cb-48a6-4a41-9816-bf81b58e56a5",
   "metadata": {
    "tags": []
   },
   "outputs": [
    {
     "name": "stdout",
     "output_type": "stream",
     "text": [
      "Test İstatistiği = nan, p-değeri = nan\n"
     ]
    }
   ],
   "source": [
    "test_istatistigi, pvalue = stats.mannwhitneyu(A_B[\"A\"], A_B[\"B\"], equal_var = True )\n",
    "print(\"Test İstatistiği = %.4f, p-değeri = %.4f\" % (test_istatistigi, pvalue))"
   ]
  },
  {
   "cell_type": "markdown",
   "id": "61fb2e43-bc1d-4e81-b062-9fceeb4930e1",
   "metadata": {},
   "source": [
    "----------------------------------------------------------------------------------------------------------------------------------------------------"
   ]
  },
  {
   "cell_type": "markdown",
   "id": "5c4de553-b5a3-474a-8bb9-f92356577ed8",
   "metadata": {},
   "source": [
    "### Bağımlı İki Örneklem T Testi \n",
    "#### Tanım: Bağımlı iki grup ortalaması arasında karşılaştırma yapılmak istenildiğinde kullanılır.\n",
    "#### Hipotezler:\n",
    "\n",
    "${H_0: \\mu_o = \\mu_s}$\n",
    "\n",
    "${H_1: \\mu_o \\neq \\mu_s}$\n",
    "\n",
    "${H_0: \\mu_o \\leq \\mu_s}$\n",
    "\n",
    "${H_1: \\mu_o > \\mu_s}$\n",
    "\n",
    "${H_0: \\mu_o \\geq \\mu_s}$\n",
    "\n",
    "${H_1: \\mu_o < \\mu_s}$\n",
    "\n",
    "#### Formül: Test İstatistiği\n",
    "\n",
    "$$ t = \\frac{\\bar{x_d} - \\mu_0 }{\\frac {s_d } {\\sqrt n}} $$\n",
    "\n",
    "#### Varsayımlar:\n",
    "* Normallik, Varyans Homojenliği"
   ]
  },
  {
   "cell_type": "markdown",
   "id": "fff1a7db-ddca-4fce-a03d-803d92728a5e",
   "metadata": {},
   "source": [
    "----------------------------------------------------------------------------------------------------------------------------------------------------"
   ]
  },
  {
   "cell_type": "markdown",
   "id": "8925c078-90d3-4a18-abf8-a72ce6d131c3",
   "metadata": {},
   "source": [
    "### İş Uygulaması: Şirket İçi Eğitimin Performans Etkisi Ölçümü\n",
    "#### Problem: \n",
    "* Belirli uğraşlar sonucunda alınan bir eğitimin katma değer sağlayıp sağlamadığı ölçülmek isteniyor.\n",
    "\n",
    "#### Detaylar: \n",
    "* Bir departman bir konuda eğitim talep ediyor\n",
    "* Gerekli/gereksiz değerIendirmeleri neticesinde eğitim alınıyor\n",
    "* Eğitimden önce ve sonra olacak şekilde gerekli ölçümler yapılıyor\n",
    "* Eğitim sonrasında eğitimin sağladığı katma değer test edilmek isteniyor."
   ]
  },
  {
   "cell_type": "code",
   "execution_count": 67,
   "id": "2c21811f-89f4-4f0d-8dd9-fdc56bdc3ee4",
   "metadata": {
    "tags": []
   },
   "outputs": [],
   "source": [
    "oncesi = pd.DataFrame( [123, 119, 119, 116, 123, 123, 121, 120, 117, 118, 121, 121, 123, 119,\n",
    "                121, 118, 124, 121, 125, 115, 115, 119, 118, 121, 117 , 117 , 120, 120,\n",
    "                121, 117 , 118, 117 , 123, 118, 124, 121, 115, 118, 125, 115] )\n",
    "sonrasi = pd.DataFrame( [118, 127 , 122, 132, 129, 123, 129, 132, 128, 130, 128, 138, 140, 130,\n",
    "                134, 134, 124, 140, 134, 129, 129, 138, 134, 124, 122, 126, 133, 127 ,\n",
    "                130, 130, 130, 132, 117, 130, 125, 129, 133, 120, 127, 123] )\n"
   ]
  },
  {
   "cell_type": "code",
   "execution_count": 68,
   "id": "e595adc1-9951-4c87-8c57-11df079e621a",
   "metadata": {
    "tags": []
   },
   "outputs": [
    {
     "data": {
      "text/html": [
       "<div>\n",
       "<style scoped>\n",
       "    .dataframe tbody tr th:only-of-type {\n",
       "        vertical-align: middle;\n",
       "    }\n",
       "\n",
       "    .dataframe tbody tr th {\n",
       "        vertical-align: top;\n",
       "    }\n",
       "\n",
       "    .dataframe thead th {\n",
       "        text-align: right;\n",
       "    }\n",
       "</style>\n",
       "<table border=\"1\" class=\"dataframe\">\n",
       "  <thead>\n",
       "    <tr style=\"text-align: right;\">\n",
       "      <th></th>\n",
       "      <th>0</th>\n",
       "    </tr>\n",
       "  </thead>\n",
       "  <tbody>\n",
       "    <tr>\n",
       "      <th>0</th>\n",
       "      <td>123</td>\n",
       "    </tr>\n",
       "    <tr>\n",
       "      <th>1</th>\n",
       "      <td>119</td>\n",
       "    </tr>\n",
       "    <tr>\n",
       "      <th>2</th>\n",
       "      <td>119</td>\n",
       "    </tr>\n",
       "    <tr>\n",
       "      <th>3</th>\n",
       "      <td>116</td>\n",
       "    </tr>\n",
       "    <tr>\n",
       "      <th>4</th>\n",
       "      <td>123</td>\n",
       "    </tr>\n",
       "  </tbody>\n",
       "</table>\n",
       "</div>"
      ],
      "text/plain": [
       "     0\n",
       "0  123\n",
       "1  119\n",
       "2  119\n",
       "3  116\n",
       "4  123"
      ]
     },
     "execution_count": 68,
     "metadata": {},
     "output_type": "execute_result"
    }
   ],
   "source": [
    "oncesi[0:5]"
   ]
  },
  {
   "cell_type": "code",
   "execution_count": 69,
   "id": "11ce97d9-7aa1-4d3f-a1fd-567f4986d8df",
   "metadata": {
    "tags": []
   },
   "outputs": [
    {
     "data": {
      "text/html": [
       "<div>\n",
       "<style scoped>\n",
       "    .dataframe tbody tr th:only-of-type {\n",
       "        vertical-align: middle;\n",
       "    }\n",
       "\n",
       "    .dataframe tbody tr th {\n",
       "        vertical-align: top;\n",
       "    }\n",
       "\n",
       "    .dataframe thead th {\n",
       "        text-align: right;\n",
       "    }\n",
       "</style>\n",
       "<table border=\"1\" class=\"dataframe\">\n",
       "  <thead>\n",
       "    <tr style=\"text-align: right;\">\n",
       "      <th></th>\n",
       "      <th>0</th>\n",
       "    </tr>\n",
       "  </thead>\n",
       "  <tbody>\n",
       "    <tr>\n",
       "      <th>0</th>\n",
       "      <td>118</td>\n",
       "    </tr>\n",
       "    <tr>\n",
       "      <th>1</th>\n",
       "      <td>127</td>\n",
       "    </tr>\n",
       "    <tr>\n",
       "      <th>2</th>\n",
       "      <td>122</td>\n",
       "    </tr>\n",
       "    <tr>\n",
       "      <th>3</th>\n",
       "      <td>132</td>\n",
       "    </tr>\n",
       "    <tr>\n",
       "      <th>4</th>\n",
       "      <td>129</td>\n",
       "    </tr>\n",
       "  </tbody>\n",
       "</table>\n",
       "</div>"
      ],
      "text/plain": [
       "     0\n",
       "0  118\n",
       "1  127\n",
       "2  122\n",
       "3  132\n",
       "4  129"
      ]
     },
     "execution_count": 69,
     "metadata": {},
     "output_type": "execute_result"
    }
   ],
   "source": [
    "sonrasi[0:5]"
   ]
  },
  {
   "cell_type": "code",
   "execution_count": 70,
   "id": "ad54bed2-fb98-489c-81f9-877f09f37687",
   "metadata": {
    "tags": []
   },
   "outputs": [
    {
     "name": "stdout",
     "output_type": "stream",
     "text": [
      "'AYRIK' Veri Seti:\n",
      "\n",
      "     ONCESI  SONRASI\n",
      "19     115      129\n",
      "28     121      130\n",
      "5      123      123\n",
      "11     121      138\n",
      "13     119      130 \n",
      "\n",
      "\n",
      "'BIRLIKTE' Veri Seti:\n",
      "\n",
      "     PERFORMANS ONCESI_SONRASI\n",
      "29         130        SONRASI\n",
      "19         129        SONRASI\n",
      "39         123        SONRASI\n",
      "21         138        SONRASI\n",
      "2          119         ONCESI \n",
      "\n"
     ]
    }
   ],
   "source": [
    "# Birinci Veri Seti\n",
    "AYRIK = pd.concat([oncesi, sonrasi], axis=1)\n",
    "AYRIK.columns = [\"ONCESI\", \"SONRASI\"]\n",
    "print(\"'AYRIK' Veri Seti:\\n\\n\", AYRIK.sample(5), \"\\n\\n\")\n",
    "\n",
    "# İkinci Veri Seti\n",
    "# ONCESI FLAG/TAG'INI OLUŞTURMA\n",
    "GRUP_ONCESI = np.arange(len(oncesi))\n",
    "GRUP_ONCESI = pd.DataFrame(GRUP_ONCESI)\n",
    "GRUP_ONCESI[:] = \"ONCESI\"\n",
    "\n",
    "# FLAG VE ONCESI DEGERLERINI BIR ARAYA GETIRME\n",
    "A = pd.concat([oncesi, GRUP_ONCESI], axis=1)\n",
    "\n",
    "# SONRASI FLAG/TAG'INI OLUŞTURMA\n",
    "GRUP_SONRASI = np.arange(len(sonrasi))\n",
    "GRUP_SONRASI = pd.DataFrame(GRUP_SONRASI)\n",
    "GRUP_SONRASI[:] = \"SONRASI\"\n",
    "\n",
    "# FLAG VE SONRASI DEGERLERINI BIR ARAYA GETIRME\n",
    "B = pd.concat([sonrasi, GRUP_SONRASI], axis=1)\n",
    "\n",
    "# TUM VERİYİ BIR ARAYA GETİRME\n",
    "BIRLIKTE = pd.concat([A, B])\n",
    "      \n",
    "# ISIMLENDIRME\n",
    "BIRLIKTE.columns = [\"PERFORMANS\", \"ONCESI_SONRASI\"]\n",
    "print(\"'BIRLIKTE' Veri Seti:\\n\\n\", BIRLIKTE.sample(5),  \"\\n\")\n"
   ]
  },
  {
   "cell_type": "code",
   "execution_count": 71,
   "id": "59a3ea9f-9201-4782-b2b2-208a82487e1d",
   "metadata": {
    "tags": []
   },
   "outputs": [
    {
     "data": {
      "image/png": "[encoded data removed]",
      "text/plain": [
       "<Figure size 640x480 with 1 Axes>"
      ]
     },
     "metadata": {},
     "output_type": "display_data"
    }
   ],
   "source": [
    "sns.boxplot(x = \"ONCESI_SONRASI\", y = \"PERFORMANS\", data = BIRLIKTE);"
   ]
  },
  {
   "cell_type": "markdown",
   "id": "5d00bd23-dcf9-4281-bbc1-4fb931d35d97",
   "metadata": {},
   "source": [
    "----------------------------------------------------------------------------------------------------------------------------------------------------"
   ]
  },
  {
   "cell_type": "markdown",
   "id": "7d5a8c12-c60b-4031-89de-0b8b30812c18",
   "metadata": {},
   "source": [
    "### Bağımlı İki Örneklem T Testi Varsayım Kontrolleri"
   ]
  },
  {
   "cell_type": "code",
   "execution_count": 72,
   "id": "ba5e831a-c6dc-4dfd-8f0a-2141b561b969",
   "metadata": {
    "tags": []
   },
   "outputs": [],
   "source": [
    "from scipy.stats import shapiro"
   ]
  },
  {
   "cell_type": "code",
   "execution_count": 73,
   "id": "d0965d12-c347-480b-b462-05dfe6b8dc9c",
   "metadata": {},
   "outputs": [
    {
     "data": {
      "text/plain": [
       "ShapiroResult(statistic=0.9543651342391968, pvalue=0.10722016543149948)"
      ]
     },
     "execution_count": 73,
     "metadata": {},
     "output_type": "execute_result"
    }
   ],
   "source": [
    "shapiro(AYRIK.ONCESI)"
   ]
  },
  {
   "cell_type": "code",
   "execution_count": 74,
   "id": "acfb8ca9-16e3-49f2-b3ad-c3547470714a",
   "metadata": {},
   "outputs": [
    {
     "data": {
      "text/plain": [
       "ShapiroResult(statistic=0.9780092239379883, pvalue=0.6159630417823792)"
      ]
     },
     "execution_count": 74,
     "metadata": {},
     "output_type": "execute_result"
    }
   ],
   "source": [
    "shapiro(AYRIK.SONRASI)"
   ]
  },
  {
   "cell_type": "code",
   "execution_count": 75,
   "id": "09323d5d-c401-4aec-9131-d07f58e988be",
   "metadata": {
    "tags": []
   },
   "outputs": [
    {
     "data": {
      "text/plain": [
       "LeveneResult(statistic=8.31303288672351, pvalue=0.0050844511807370246)"
      ]
     },
     "execution_count": 75,
     "metadata": {},
     "output_type": "execute_result"
    }
   ],
   "source": [
    "import scipy.stats as stats\n",
    "stats.levene(AYRIK.ONCESI, AYRIK.SONRASI) "
   ]
  },
  {
   "cell_type": "markdown",
   "id": "ae04a955-a897-42fc-a413-3d2056580789",
   "metadata": {},
   "source": [
    "----------------------------------------------------------------------------------------------------------------------------------------------------"
   ]
  },
  {
   "cell_type": "markdown",
   "id": "e8548895-e5f6-46f4-b6d5-71e1c27fe8d3",
   "metadata": {},
   "source": [
    "### Bağımlı İki Örneklem T Testi Uygulaması"
   ]
  },
  {
   "cell_type": "code",
   "execution_count": 76,
   "id": "3dc548b7-95b5-441c-8509-b7278dc788f4",
   "metadata": {
    "tags": []
   },
   "outputs": [
    {
     "data": {
      "text/plain": [
       "TtestResult(statistic=-9.281533480429937, pvalue=2.0235251764440722e-11, df=39)"
      ]
     },
     "execution_count": 76,
     "metadata": {},
     "output_type": "execute_result"
    }
   ],
   "source": [
    "stats.ttest_rel(AYRIK.ONCESI, AYRIK.SONRASI)"
   ]
  },
  {
   "cell_type": "code",
   "execution_count": 77,
   "id": "cc7e1a96-1a51-49d7-9645-0d5b15b56fc0",
   "metadata": {
    "tags": []
   },
   "outputs": [
    {
     "name": "stdout",
     "output_type": "stream",
     "text": [
      "Test İstatistiği = -9.2815, p-değeri = 0.0000 \n"
     ]
    }
   ],
   "source": [
    "test_istatistigi, pvalue = stats.ttest_rel(AYRIK[\"ONCESI\"], AYRIK[\"SONRASI\"])\n",
    "print(\"Test İstatistiği = %.4f, p-değeri = %.4f \" % (test_istatistigi, pvalue))"
   ]
  },
  {
   "cell_type": "markdown",
   "id": "23cf66c9-8a6e-4453-b158-22577829b722",
   "metadata": {},
   "source": [
    "----------------------------------------------------------------------------------------------------------------------------------------------------"
   ]
  },
  {
   "cell_type": "markdown",
   "id": "5842600f-6319-4540-a373-edf75e934bfd",
   "metadata": {},
   "source": [
    "### Nonparametrik Bağımlı İki Örneklem Testi"
   ]
  },
  {
   "cell_type": "code",
   "execution_count": 78,
   "id": "f9a7528c-969b-4ade-baa6-acd281f9e2f0",
   "metadata": {
    "tags": []
   },
   "outputs": [
    {
     "name": "stderr",
     "output_type": "stream",
     "text": [
      "C:\\Users\\ASUS\\anaconda3\\Lib\\site-packages\\scipy\\stats\\_morestats.py:3414: UserWarning: Exact p-value calculation does not work if there are zeros. Switching to normal approximation.\n",
      "  warnings.warn(\"Exact p-value calculation does not work if there are \"\n"
     ]
    },
    {
     "data": {
      "text/plain": [
       "WilcoxonResult(statistic=15.0, pvalue=2.491492033374464e-07)"
      ]
     },
     "execution_count": 78,
     "metadata": {},
     "output_type": "execute_result"
    }
   ],
   "source": [
    "stats.wilcoxon(AYRIK.ONCESI, AYRIK.SONRASI)"
   ]
  },
  {
   "cell_type": "code",
   "execution_count": 79,
   "id": "4e1b1777-e44e-4371-8559-c5566ac6e167",
   "metadata": {
    "tags": []
   },
   "outputs": [
    {
     "name": "stdout",
     "output_type": "stream",
     "text": [
      "Test İstatistiği = 15.0000, p-değeri = 0.0000 \n"
     ]
    }
   ],
   "source": [
    "test_istatistigi, pvalue = stats.wilcoxon(AYRIK[\"ONCESI\"], AYRIK[\"SONRASI\"])\n",
    "print(\"Test İstatistiği = %.4f, p-değeri = %.4f \" % (test_istatistigi, pvalue))"
   ]
  },
  {
   "cell_type": "markdown",
   "id": "1a6f9575-ca7e-4cdb-b8c6-237c0c542fa9",
   "metadata": {},
   "source": [
    "----------------------------------------------------------------------------------------------------------------------------------------------------"
   ]
  },
  {
   "cell_type": "markdown",
   "id": "2ab12dde-6700-4205-b961-128f912362bd",
   "metadata": {},
   "source": [
    "### İki Örneklem Oran Testi\n",
    "\n",
    "#### Tanım: İki oran arasında karşılaştırma yapmak için kullanılır.\n",
    "\n",
    "#### Hipotezle:\n",
    "\n",
    "${H_0: p_1 = p_2}$\n",
    "\n",
    "${H_1: p_1 \\neq p_2}$\n",
    "\n",
    "${H_0: p_1 \\leq p_2}$\n",
    "\n",
    "${H_1: p_1 > p_2}$\n",
    "\n",
    "${H_0: p_1 \\geq p_2}$\n",
    "\n",
    "${H_1: p_1 < p_2}$\n",
    "\n",
    "#### Formül: İki Örneklem Oran Testi: Test İstatistiği\n",
    "\n",
    "$$ {z = \\frac{p_1 - p_2}{\\sqrt{\\frac{p(1-p)}{n_1} + \\frac{p(1-p)}{n_2}}}} $$\n",
    "\n",
    "#### Varsayımlar: n 30'dan büyükse z'yi kullanarak oran testi yapılır. \n",
    "\n",
    "${n_1 > 30}$\n",
    "\n",
    "${n_2 > 30}$"
   ]
  },
  {
   "cell_type": "markdown",
   "id": "3ef03ed7-b882-4729-a337-4893ac8742c9",
   "metadata": {},
   "source": [
    "----------------------------------------------------------------------------------------------------------------------------------------------------"
   ]
  },
  {
   "cell_type": "markdown",
   "id": "df51d10f-3548-47ce-893a-db3104172273",
   "metadata": {},
   "source": [
    "#### İş Uygulaması: Kullanıcı Arayüzü Deneyi"
   ]
  },
  {
   "cell_type": "code",
   "execution_count": 80,
   "id": "dd59cd45-66cc-4b33-aa1b-3f0e82c3c75b",
   "metadata": {
    "tags": []
   },
   "outputs": [],
   "source": [
    "from statsmodels.stats.proportion import proportions_ztest"
   ]
  },
  {
   "cell_type": "code",
   "execution_count": 81,
   "id": "a2c3681f-662a-4d01-be55-7ce639fdfee1",
   "metadata": {
    "tags": []
   },
   "outputs": [],
   "source": [
    "basari_sayisi = np.array([300, 250])\n",
    "gozlem_sayisi = np.array([1000, 1100])"
   ]
  },
  {
   "cell_type": "code",
   "execution_count": 82,
   "id": "33fb2431-ae10-4074-8abd-d8326d9d8326",
   "metadata": {
    "tags": []
   },
   "outputs": [
    {
     "data": {
      "text/plain": [
       "(3.7857863233209255, 0.0001532232957772221)"
      ]
     },
     "execution_count": 82,
     "metadata": {},
     "output_type": "execute_result"
    }
   ],
   "source": [
    "proportions_ztest (count = basari_sayisi, nobs = gozlem_sayisi)"
   ]
  },
  {
   "cell_type": "markdown",
   "id": "45aabd70-d834-46fa-9455-ffc9c3de3530",
   "metadata": {},
   "source": [
    "----------------------------------------------------------------------------------------------------------------------------------------------------"
   ]
  },
  {
   "cell_type": "markdown",
   "id": "5046ea37-5629-4c91-8e4a-e2986fbc28e3",
   "metadata": {},
   "source": [
    "### Varyans Analizi\n",
    "\n",
    "#### Tanım: İki ya da daha fazla grup ortalaması arasında istatistiksel olarak anlamlı farklılık olup olmadığı öğrenilmek istenildiğinde kullanılır.\n",
    "\n",
    "#### Hipotezler:\n",
    "\n",
    "${H_0: \\mu_1 = \\mu_2 = \\mu_3 }$\n",
    "\n",
    "${H_1:}$ Eşit Değillerdir. (En az birisi farklıdır)\n",
    "\n",
    "#### Test İstatistiği: F istatistiği olarak geçmektedir.\n",
    "\n",
    "$${F_s =  \\frac {MS_(between)}{MS_(within)}}$$\n",
    "\n",
    "#### Varsayımlar:\n",
    "* Gözlemlerin birbirinden bağımsız olması (grupların)\n",
    "* Normal dağılım\n",
    "* Varyans homojenliği"
   ]
  },
  {
   "cell_type": "markdown",
   "id": "c865b768-6310-4472-8434-37e27a5e68cd",
   "metadata": {},
   "source": [
    "----------------------------------------------------------------------------------------------------------------------------------------------------"
   ]
  },
  {
   "cell_type": "markdown",
   "id": "8ac1b972-09c0-41ed-94ba-50371128a12c",
   "metadata": {},
   "source": [
    "#### İş Uygulaması: Anasayfa İçerik Stratejisi Belirleme\n",
    "\n",
    "##### Problem: Anasayfa'da geçirilen süre artırılmak isteniyor\n",
    "##### Detaylar:\n",
    "* Bir web sitesi için başarı kriterleri: ortalama ziyaret süresi, hemen çıkış oranı vb\n",
    "* Uzun zaman geçiren kullanıcılarn reklamlara daha fazla tıkladığı ve markaya olan bağlılıklarının arttığı biliniyor.\n",
    "* Buna yönelik olarak benzer haberler farklı resimler ya da farklı formatlarda hazırlanarak oluşturulan test gruplarına gösteriliyor."
   ]
  },
  {
   "cell_type": "code",
   "execution_count": 83,
   "id": "a1708c6c-1f61-44f3-841c-6e96083359d6",
   "metadata": {
    "tags": []
   },
   "outputs": [
    {
     "data": {
      "text/html": [
       "<div>\n",
       "<style scoped>\n",
       "    .dataframe tbody tr th:only-of-type {\n",
       "        vertical-align: middle;\n",
       "    }\n",
       "\n",
       "    .dataframe tbody tr th {\n",
       "        vertical-align: top;\n",
       "    }\n",
       "\n",
       "    .dataframe thead th {\n",
       "        text-align: right;\n",
       "    }\n",
       "</style>\n",
       "<table border=\"1\" class=\"dataframe\">\n",
       "  <thead>\n",
       "    <tr style=\"text-align: right;\">\n",
       "      <th></th>\n",
       "      <th>Grup_A</th>\n",
       "      <th>Grup_B</th>\n",
       "      <th>Grup_C</th>\n",
       "    </tr>\n",
       "  </thead>\n",
       "  <tbody>\n",
       "    <tr>\n",
       "      <th>17</th>\n",
       "      <td>30</td>\n",
       "      <td>31</td>\n",
       "      <td>36</td>\n",
       "    </tr>\n",
       "    <tr>\n",
       "      <th>12</th>\n",
       "      <td>25</td>\n",
       "      <td>38</td>\n",
       "      <td>35</td>\n",
       "    </tr>\n",
       "    <tr>\n",
       "      <th>16</th>\n",
       "      <td>31</td>\n",
       "      <td>34</td>\n",
       "      <td>39</td>\n",
       "    </tr>\n",
       "    <tr>\n",
       "      <th>11</th>\n",
       "      <td>33</td>\n",
       "      <td>30</td>\n",
       "      <td>34</td>\n",
       "    </tr>\n",
       "    <tr>\n",
       "      <th>6</th>\n",
       "      <td>27</td>\n",
       "      <td>34</td>\n",
       "      <td>38</td>\n",
       "    </tr>\n",
       "  </tbody>\n",
       "</table>\n",
       "</div>"
      ],
      "text/plain": [
       "    Grup_A  Grup_B  Grup_C\n",
       "17      30      31      36\n",
       "12      25      38      35\n",
       "16      31      34      39\n",
       "11      33      30      34\n",
       "6       27      34      38"
      ]
     },
     "execution_count": 83,
     "metadata": {},
     "output_type": "execute_result"
    }
   ],
   "source": [
    "A = pd.DataFrame([28,33,30,29,28,29,27,31,30,32,28,33,25,29,27,31,31,30,31,34,30,32,31,])\n",
    "B = pd.DataFrame([31,32,30,30,33,32,34,27,36,30,31,30,38,29,30,34,34,31,35,35,33,30,28,])\n",
    "C = pd.DataFrame([40,33,38,41,42,43,38,35,39,39,36,34,35,40,38,36,39,36,33,35,38,35,40,])\n",
    "\n",
    "dfs = [A, B, C]\n",
    "\n",
    "ABC = pd.concat(dfs, axis = 1)\n",
    "ABC.columns = [\"Grup_A\", \"Grup_B\", \"Grup_C\"]\n",
    "ABC.sample(5)"
   ]
  },
  {
   "cell_type": "markdown",
   "id": "4bcecd7a-04e6-418b-a31c-45f45b66fa31",
   "metadata": {},
   "source": [
    "----------------------------------------------------------------------------------------------------------------------------------------------------"
   ]
  },
  {
   "cell_type": "markdown",
   "id": "d4c9c969-ceb3-4420-9b0f-c7e0fbbc029a",
   "metadata": {},
   "source": [
    "#### Varsayım Kontrolü"
   ]
  },
  {
   "cell_type": "code",
   "execution_count": 84,
   "id": "33674578-f377-45a5-975d-31953d644dd6",
   "metadata": {
    "tags": []
   },
   "outputs": [],
   "source": [
    "from scipy.stats import shapiro"
   ]
  },
  {
   "cell_type": "code",
   "execution_count": 85,
   "id": "3dc46536-ba70-43e7-8d09-cd971ae75192",
   "metadata": {
    "tags": []
   },
   "outputs": [
    {
     "data": {
      "text/plain": [
       "ShapiroResult(statistic=0.9771647453308105, pvalue=0.8526690006256104)"
      ]
     },
     "execution_count": 85,
     "metadata": {},
     "output_type": "execute_result"
    }
   ],
   "source": [
    "shapiro(ABC['Grup_A'])"
   ]
  },
  {
   "cell_type": "code",
   "execution_count": 86,
   "id": "867bd599-f0c2-44ba-8ad8-ecb9e82d0e2d",
   "metadata": {
    "tags": []
   },
   "outputs": [
    {
     "data": {
      "text/plain": [
       "ShapiroResult(statistic=0.9653159379959106, pvalue=0.5784821510314941)"
      ]
     },
     "execution_count": 86,
     "metadata": {},
     "output_type": "execute_result"
    }
   ],
   "source": [
    "shapiro(ABC['Grup_B'])"
   ]
  },
  {
   "cell_type": "code",
   "execution_count": 87,
   "id": "7ca79062-5cba-4bef-8112-2f8854e44f1a",
   "metadata": {
    "tags": []
   },
   "outputs": [
    {
     "data": {
      "text/plain": [
       "ShapiroResult(statistic=0.9604302644729614, pvalue=0.4721103310585022)"
      ]
     },
     "execution_count": 87,
     "metadata": {},
     "output_type": "execute_result"
    }
   ],
   "source": [
    "shapiro(ABC['Grup_C'])"
   ]
  },
  {
   "cell_type": "code",
   "execution_count": 88,
   "id": "de0fc4f9-638d-46d7-bd2d-62b80db31d03",
   "metadata": {
    "tags": []
   },
   "outputs": [
    {
     "data": {
      "text/plain": [
       "LeveneResult(statistic=0.9446786090621706, pvalue=0.3939978753114075)"
      ]
     },
     "execution_count": 88,
     "metadata": {},
     "output_type": "execute_result"
    }
   ],
   "source": [
    "stats.levene(ABC['Grup_A'], ABC['Grup_B'], ABC['Grup_C'])"
   ]
  },
  {
   "cell_type": "markdown",
   "id": "4aa914e2-9880-4da1-95c5-59be6d7c976f",
   "metadata": {},
   "source": [
    "----------------------------------------------------------------------------------------------------------------------------------------------------"
   ]
  },
  {
   "cell_type": "markdown",
   "id": "b33883dc-324c-4eae-b93c-571cf7d2c774",
   "metadata": {},
   "source": [
    "#### Varyans Analizi Hipotez Testinin Uygulanması"
   ]
  },
  {
   "cell_type": "code",
   "execution_count": 89,
   "id": "befe0639-995d-49b0-8609-4c1cb369eab5",
   "metadata": {
    "tags": []
   },
   "outputs": [],
   "source": [
    "from scipy.stats import f_oneway"
   ]
  },
  {
   "cell_type": "code",
   "execution_count": 90,
   "id": "80abee9b-8db8-4b0b-b648-7e969d803e21",
   "metadata": {
    "tags": []
   },
   "outputs": [
    {
     "data": {
      "text/plain": [
       "F_onewayResult(statistic=53.46714172604916, pvalue=1.566295188711795e-14)"
      ]
     },
     "execution_count": 90,
     "metadata": {},
     "output_type": "execute_result"
    }
   ],
   "source": [
    "f_oneway(ABC['Grup_A'], ABC['Grup_B'], ABC['Grup_C'])"
   ]
  },
  {
   "cell_type": "code",
   "execution_count": 91,
   "id": "efeeaa5a-cf90-45d8-a811-808b2e4ee8f8",
   "metadata": {
    "tags": []
   },
   "outputs": [
    {
     "name": "stdout",
     "output_type": "stream",
     "text": [
      "0.00000\n"
     ]
    }
   ],
   "source": [
    "print (\"{:.5f}\".format(f_oneway(ABC['Grup_A'], ABC['Grup_B'], ABC['Grup_C'])[1]))"
   ]
  },
  {
   "cell_type": "markdown",
   "id": "d67049b2-5783-46bd-a508-5ce64e7193ca",
   "metadata": {},
   "source": [
    "----------------------------------------------------------------------------------------------------------------------------------------------------"
   ]
  },
  {
   "cell_type": "markdown",
   "id": "5e94add0-8695-4a9c-bc92-0ae7bbf10199",
   "metadata": {},
   "source": [
    "### Nonparametrik Hipotez Testi"
   ]
  },
  {
   "cell_type": "code",
   "execution_count": 92,
   "id": "41f9008e-f318-4758-b25c-9068d3ac34d1",
   "metadata": {
    "tags": []
   },
   "outputs": [],
   "source": [
    "from scipy.stats import kruskal"
   ]
  },
  {
   "cell_type": "code",
   "execution_count": 93,
   "id": "68878afb-9e33-4194-93b5-80e36950e687",
   "metadata": {
    "tags": []
   },
   "outputs": [
    {
     "data": {
      "text/plain": [
       "KruskalResult(statistic=41.41835051661897, pvalue=1.014190318754816e-09)"
      ]
     },
     "execution_count": 93,
     "metadata": {},
     "output_type": "execute_result"
    }
   ],
   "source": [
    "kruskal(ABC['Grup_A'], ABC['Grup_B'], ABC['Grup_C'])"
   ]
  },
  {
   "cell_type": "markdown",
   "id": "21e7c7e1-cfe2-4793-9033-f8b2639ea9f0",
   "metadata": {},
   "source": [
    "----------------------------------------------------------------------------------------------------------------------------------------------------"
   ]
  },
  {
   "cell_type": "markdown",
   "id": "69f50873-0516-4b4c-bcd9-0a61646dd553",
   "metadata": {},
   "source": [
    "### Korelasyon Analizi\n",
    "\n",
    "#### Tanım: Değişkenler arasındaki ilişki, bu ilişkinin yönü ve şiddeti ile ilgili bilgiler sağlayan istatistiksel bir yöntemdir.\n",
    "\n",
    "#### Hipotezler:\n",
    "\n",
    "${H_0: \\rho  = 0}$\n",
    "\n",
    "${H_1: \\rho \\neq 0}$\n",
    "\n",
    "#### Formül:\n",
    "\n",
    "$$ r_{xy} = \\frac{\\sum x_i  y_i - n\\bar{x}\\bar{y}}{\\sqrt{(\\sum x_i^2 - n\\bar{x}^2) \\cdot  (\\sum y_i^2 - n\\bar{y}^2)}} $$\n",
    "\n",
    "$$ t = r \\sqrt{\\frac {n - 2}{1-r^2}} $$\n",
    "\n",
    "#### Varsayımlar:\n",
    "* İki değişken içinde normallik varsayımı\n",
    "* Varsayım sağlanıyorsa Pearson Korelasyon Katsayısı\n",
    "* Varsayım sağlanmıyorsa Spearman Korelasyon Katsayısı"
   ]
  },
  {
   "cell_type": "markdown",
   "id": "361cf608-f72b-4aae-b55c-ae4da13851a3",
   "metadata": {},
   "source": [
    "----------------------------------------------------------------------------------------------------------------------------------------------------"
   ]
  },
  {
   "cell_type": "markdown",
   "id": "1be44c3f-355a-4a90-b977-725641d5c773",
   "metadata": {},
   "source": [
    "#### İş Uygulaması: Bahşiş İle Ödenen Hesap Arasındaki İlişkinin İncelenmesi\n",
    "#### Soru: Bahşiş ile ödenen hesap arasında korelasyon var mı?\n",
    "\n",
    "#### Detaylar:\n",
    "* Bahşiş veri seti:\n",
    "* total_bill: yemeğin toplam fiyatı (bahşiş ve vergi dahil)\n",
    "* tip: bahşiş\n",
    "* sex: ücreti ödeyen kişinin cinsiyeti (O = male, 1 = female)\n",
    "* smoker: grupta sigara içen var mı? (O = No, 1 = Yes)\n",
    "* day: gün (3 = Thur, 4 = Fri, 5 = Sat, 6 = Sun)\n",
    "* time: ne zaman? (O = Day, 1 = Night)\n",
    "* size: grupta kaç kişi var?"
   ]
  },
  {
   "cell_type": "code",
   "execution_count": 94,
   "id": "161eba7e-79df-42bb-9ecd-3cbceff856b0",
   "metadata": {},
   "outputs": [
    {
     "data": {
      "text/html": [
       "<div>\n",
       "<style scoped>\n",
       "    .dataframe tbody tr th:only-of-type {\n",
       "        vertical-align: middle;\n",
       "    }\n",
       "\n",
       "    .dataframe tbody tr th {\n",
       "        vertical-align: top;\n",
       "    }\n",
       "\n",
       "    .dataframe thead th {\n",
       "        text-align: right;\n",
       "    }\n",
       "</style>\n",
       "<table border=\"1\" class=\"dataframe\">\n",
       "  <thead>\n",
       "    <tr style=\"text-align: right;\">\n",
       "      <th></th>\n",
       "      <th>total_bill</th>\n",
       "      <th>tip</th>\n",
       "      <th>sex</th>\n",
       "      <th>smoker</th>\n",
       "      <th>day</th>\n",
       "      <th>time</th>\n",
       "      <th>size</th>\n",
       "    </tr>\n",
       "  </thead>\n",
       "  <tbody>\n",
       "    <tr>\n",
       "      <th>0</th>\n",
       "      <td>16.99</td>\n",
       "      <td>1.01</td>\n",
       "      <td>Female</td>\n",
       "      <td>No</td>\n",
       "      <td>Sun</td>\n",
       "      <td>Dinner</td>\n",
       "      <td>2</td>\n",
       "    </tr>\n",
       "    <tr>\n",
       "      <th>1</th>\n",
       "      <td>10.34</td>\n",
       "      <td>1.66</td>\n",
       "      <td>Male</td>\n",
       "      <td>No</td>\n",
       "      <td>Sun</td>\n",
       "      <td>Dinner</td>\n",
       "      <td>3</td>\n",
       "    </tr>\n",
       "    <tr>\n",
       "      <th>2</th>\n",
       "      <td>21.01</td>\n",
       "      <td>3.50</td>\n",
       "      <td>Male</td>\n",
       "      <td>No</td>\n",
       "      <td>Sun</td>\n",
       "      <td>Dinner</td>\n",
       "      <td>3</td>\n",
       "    </tr>\n",
       "    <tr>\n",
       "      <th>3</th>\n",
       "      <td>23.68</td>\n",
       "      <td>3.31</td>\n",
       "      <td>Male</td>\n",
       "      <td>No</td>\n",
       "      <td>Sun</td>\n",
       "      <td>Dinner</td>\n",
       "      <td>2</td>\n",
       "    </tr>\n",
       "    <tr>\n",
       "      <th>4</th>\n",
       "      <td>24.59</td>\n",
       "      <td>3.61</td>\n",
       "      <td>Female</td>\n",
       "      <td>No</td>\n",
       "      <td>Sun</td>\n",
       "      <td>Dinner</td>\n",
       "      <td>4</td>\n",
       "    </tr>\n",
       "  </tbody>\n",
       "</table>\n",
       "</div>"
      ],
      "text/plain": [
       "   total_bill   tip     sex smoker  day    time  size\n",
       "0       16.99  1.01  Female     No  Sun  Dinner     2\n",
       "1       10.34  1.66    Male     No  Sun  Dinner     3\n",
       "2       21.01  3.50    Male     No  Sun  Dinner     3\n",
       "3       23.68  3.31    Male     No  Sun  Dinner     2\n",
       "4       24.59  3.61  Female     No  Sun  Dinner     4"
      ]
     },
     "execution_count": 94,
     "metadata": {},
     "output_type": "execute_result"
    }
   ],
   "source": [
    "tips = sns.load_dataset(\"tips\")\n",
    "df = tips.copy()\n",
    "df.head()"
   ]
  },
  {
   "cell_type": "code",
   "execution_count": 95,
   "id": "b9a6a26f-978a-4e96-b2e9-4080621cd286",
   "metadata": {},
   "outputs": [],
   "source": [
    "df[\"total_bill\"] = df[\"total_bill\"] - df[\"tip\"]"
   ]
  },
  {
   "cell_type": "code",
   "execution_count": 96,
   "id": "e0776497-2ea1-4057-b326-925e4fac8878",
   "metadata": {},
   "outputs": [
    {
     "data": {
      "text/html": [
       "<div>\n",
       "<style scoped>\n",
       "    .dataframe tbody tr th:only-of-type {\n",
       "        vertical-align: middle;\n",
       "    }\n",
       "\n",
       "    .dataframe tbody tr th {\n",
       "        vertical-align: top;\n",
       "    }\n",
       "\n",
       "    .dataframe thead th {\n",
       "        text-align: right;\n",
       "    }\n",
       "</style>\n",
       "<table border=\"1\" class=\"dataframe\">\n",
       "  <thead>\n",
       "    <tr style=\"text-align: right;\">\n",
       "      <th></th>\n",
       "      <th>total_bill</th>\n",
       "      <th>tip</th>\n",
       "      <th>sex</th>\n",
       "      <th>smoker</th>\n",
       "      <th>day</th>\n",
       "      <th>time</th>\n",
       "      <th>size</th>\n",
       "    </tr>\n",
       "  </thead>\n",
       "  <tbody>\n",
       "    <tr>\n",
       "      <th>0</th>\n",
       "      <td>15.98</td>\n",
       "      <td>1.01</td>\n",
       "      <td>Female</td>\n",
       "      <td>No</td>\n",
       "      <td>Sun</td>\n",
       "      <td>Dinner</td>\n",
       "      <td>2</td>\n",
       "    </tr>\n",
       "    <tr>\n",
       "      <th>1</th>\n",
       "      <td>8.68</td>\n",
       "      <td>1.66</td>\n",
       "      <td>Male</td>\n",
       "      <td>No</td>\n",
       "      <td>Sun</td>\n",
       "      <td>Dinner</td>\n",
       "      <td>3</td>\n",
       "    </tr>\n",
       "    <tr>\n",
       "      <th>2</th>\n",
       "      <td>17.51</td>\n",
       "      <td>3.50</td>\n",
       "      <td>Male</td>\n",
       "      <td>No</td>\n",
       "      <td>Sun</td>\n",
       "      <td>Dinner</td>\n",
       "      <td>3</td>\n",
       "    </tr>\n",
       "    <tr>\n",
       "      <th>3</th>\n",
       "      <td>20.37</td>\n",
       "      <td>3.31</td>\n",
       "      <td>Male</td>\n",
       "      <td>No</td>\n",
       "      <td>Sun</td>\n",
       "      <td>Dinner</td>\n",
       "      <td>2</td>\n",
       "    </tr>\n",
       "    <tr>\n",
       "      <th>4</th>\n",
       "      <td>20.98</td>\n",
       "      <td>3.61</td>\n",
       "      <td>Female</td>\n",
       "      <td>No</td>\n",
       "      <td>Sun</td>\n",
       "      <td>Dinner</td>\n",
       "      <td>4</td>\n",
       "    </tr>\n",
       "  </tbody>\n",
       "</table>\n",
       "</div>"
      ],
      "text/plain": [
       "   total_bill   tip     sex smoker  day    time  size\n",
       "0       15.98  1.01  Female     No  Sun  Dinner     2\n",
       "1        8.68  1.66    Male     No  Sun  Dinner     3\n",
       "2       17.51  3.50    Male     No  Sun  Dinner     3\n",
       "3       20.37  3.31    Male     No  Sun  Dinner     2\n",
       "4       20.98  3.61  Female     No  Sun  Dinner     4"
      ]
     },
     "execution_count": 96,
     "metadata": {},
     "output_type": "execute_result"
    }
   ],
   "source": [
    "df.head()"
   ]
  },
  {
   "cell_type": "code",
   "execution_count": 97,
   "id": "f8ae45de-d7d3-4f90-b103-ced9c125713e",
   "metadata": {},
   "outputs": [
    {
     "data": {
      "image/png": "[encoded data removed]",
      "text/plain": [
       "<Figure size 640x480 with 1 Axes>"
      ]
     },
     "metadata": {},
     "output_type": "display_data"
    }
   ],
   "source": [
    "df.plot.scatter(\"tip\", \"total_bill\");"
   ]
  },
  {
   "cell_type": "markdown",
   "id": "e7b07d3f-e0fb-45b7-950a-992e1ba23dc1",
   "metadata": {},
   "source": [
    "----------------------------------------------------------------------------------------------------------------------------------------------------"
   ]
  },
  {
   "cell_type": "markdown",
   "id": "3dbbce87-0b22-432c-9042-4899515d4dbc",
   "metadata": {},
   "source": [
    "#### Varsayım Kontrolü"
   ]
  },
  {
   "cell_type": "code",
   "execution_count": 98,
   "id": "128ce4e7-0f69-4c05-8f60-820c55636119",
   "metadata": {},
   "outputs": [],
   "source": [
    "from scipy.stats import shapiro"
   ]
  },
  {
   "cell_type": "code",
   "execution_count": 99,
   "id": "2ba7d8cb-8295-433c-8133-c71aa7b0515b",
   "metadata": {
    "tags": []
   },
   "outputs": [
    {
     "name": "stdout",
     "output_type": "stream",
     "text": [
      "Test İstatistiği = 0.8978, p-değeri = 0.0000\n",
      "Test İstatistiği = 0.9136, p-değeri = 0.0000\n"
     ]
    }
   ],
   "source": [
    "test_istatistigi, pvalue = shapiro(df[\"tip\"])\n",
    "print('Test İstatistiği = %.4f, p-değeri = %.4f' % (test_istatistigi, pvalue))\n",
    "\n",
    "test_istatistigi, pvalue = shapiro(df[\"total_bill\"])\n",
    "print('Test İstatistiği = %.4f, p-değeri = %.4f' % (test_istatistigi, pvalue))"
   ]
  },
  {
   "cell_type": "markdown",
   "id": "91dc4220-7147-4982-aea7-cb02bd449cc1",
   "metadata": {},
   "source": [
    "----------------------------------------------------------------------------------------------------------------------------------------------------"
   ]
  },
  {
   "cell_type": "markdown",
   "id": "a904d8c4-4e29-452c-857e-43ad7b7519c5",
   "metadata": {},
   "source": [
    "#### Hipotez Testi"
   ]
  },
  {
   "cell_type": "markdown",
   "id": "77f350f1-e58b-487e-b702-4e69437acc2f",
   "metadata": {},
   "source": [
    "##### Korelasyon kat sayısı"
   ]
  },
  {
   "cell_type": "code",
   "execution_count": 100,
   "id": "911f7574-5dbb-4d53-9591-edb1509c39cf",
   "metadata": {
    "tags": []
   },
   "outputs": [
    {
     "data": {
      "text/plain": [
       "0.5766634471096374"
      ]
     },
     "execution_count": 100,
     "metadata": {},
     "output_type": "execute_result"
    }
   ],
   "source": [
    "df[\"tip\"].corr(df[\"total_bill\"])"
   ]
  },
  {
   "cell_type": "code",
   "execution_count": 101,
   "id": "911c60e3-483f-4787-8fee-62426026e83d",
   "metadata": {
    "tags": []
   },
   "outputs": [
    {
     "data": {
      "text/plain": [
       "0.593691939408997"
      ]
     },
     "execution_count": 101,
     "metadata": {},
     "output_type": "execute_result"
    }
   ],
   "source": [
    "df[\"tip\"].corr(df[\"total_bill\"], method = \"spearman\")"
   ]
  },
  {
   "cell_type": "markdown",
   "id": "a05ec69b-605c-4c9c-9069-51e60243d766",
   "metadata": {},
   "source": [
    "##### Korelasyonun Anlamlılığının Testi"
   ]
  },
  {
   "cell_type": "code",
   "execution_count": 102,
   "id": "77f293cb-ed3d-46a1-bc14-6797f9e56f46",
   "metadata": {
    "tags": []
   },
   "outputs": [],
   "source": [
    "from scipy.stats import pearsonr"
   ]
  },
  {
   "cell_type": "code",
   "execution_count": 109,
   "id": "bb8d4973-afd2-4678-9ae6-02a7d48acc81",
   "metadata": {
    "tags": []
   },
   "outputs": [
    {
     "name": "stdout",
     "output_type": "stream",
     "text": [
      "Korelasyon Katsayısı = 0.5767, p-değeri = 0.0000\n"
     ]
    }
   ],
   "source": [
    "korelasyon_katsayisi, pvalue = pearsonr(df[\"tip\"], df[\"total_bill\"])\n",
    "print('Korelasyon Katsayısı = %.4f, p-değeri = %.4f' % (korelasyon_katsayisi, pvalue))"
   ]
  },
  {
   "cell_type": "markdown",
   "id": "aa76e9c2-9d01-4943-94bd-021f0e5fbbdf",
   "metadata": {},
   "source": [
    "----------------------------------------------------------------------------------------------------------------------------------------------------"
   ]
  },
  {
   "cell_type": "markdown",
   "id": "87b94605-53f1-46be-ba1e-0ec294f70d55",
   "metadata": {
    "tags": []
   },
   "source": [
    "### Nonparametrik Kolerasyon Hipotez Testi"
   ]
  },
  {
   "cell_type": "code",
   "execution_count": 111,
   "id": "1b2a70ec-9306-423f-8f11-e8312dcb6552",
   "metadata": {
    "tags": []
   },
   "outputs": [],
   "source": [
    "from scipy.stats import spearmanr"
   ]
  },
  {
   "cell_type": "code",
   "execution_count": 112,
   "id": "b93648e9-f4ca-45a1-b74f-3bf5183129e8",
   "metadata": {
    "tags": []
   },
   "outputs": [
    {
     "name": "stderr",
     "output_type": "stream",
     "text": [
      "C:\\Users\\ASUS\\AppData\\Local\\Temp\\ipykernel_16816\\2823341133.py:1: DeprecationWarning: Please use `spearmanr` from the `scipy.stats` namespace, the `scipy.stats.stats` namespace is deprecated.\n",
      "  stats.spearmanr(df[\"tip\"], df[\"total_bill\"])\n"
     ]
    },
    {
     "data": {
      "text/plain": [
       "SignificanceResult(statistic=0.593691939408997, pvalue=1.2452285137560276e-24)"
      ]
     },
     "execution_count": 112,
     "metadata": {},
     "output_type": "execute_result"
    }
   ],
   "source": [
    "stats.spearmanr(df[\"tip\"], df[\"total_bill\"])"
   ]
  },
  {
   "cell_type": "code",
   "execution_count": 113,
   "id": "2bd82dec-f93b-40e0-893f-665b28d41f21",
   "metadata": {
    "tags": []
   },
   "outputs": [
    {
     "name": "stdout",
     "output_type": "stream",
     "text": [
      "Kolerasyon Katsayısı = 0.5937, p-değeri = 0.0000\n"
     ]
    },
    {
     "name": "stderr",
     "output_type": "stream",
     "text": [
      "C:\\Users\\ASUS\\AppData\\Local\\Temp\\ipykernel_16816\\1218817559.py:1: DeprecationWarning: Please use `spearmanr` from the `scipy.stats` namespace, the `scipy.stats.stats` namespace is deprecated.\n",
      "  korelasyon_katsayisi, pvalue = stats.spearmanr(df[\"tip\"], df[\"total_bill\"])\n"
     ]
    }
   ],
   "source": [
    "korelasyon_katsayisi, pvalue = stats.spearmanr(df[\"tip\"], df[\"total_bill\"])\n",
    "print('Kolerasyon Katsayısı = %.4f, p-değeri = %.4f' % (korelasyon_katsayisi, pvalue))"
   ]
  },
  {
   "cell_type": "code",
   "execution_count": 114,
   "id": "acc00bef-d40c-4cd6-98d7-901e1952bc3b",
   "metadata": {
    "tags": []
   },
   "outputs": [
    {
     "name": "stdout",
     "output_type": "stream",
     "text": [
      "Kolerasyon Katsayısı = 0.4401, p-değeri = 0.0000\n"
     ]
    },
    {
     "name": "stderr",
     "output_type": "stream",
     "text": [
      "C:\\Users\\ASUS\\AppData\\Local\\Temp\\ipykernel_16816\\683854266.py:1: DeprecationWarning: Please use `kendalltau` from the `scipy.stats` namespace, the `scipy.stats.stats` namespace is deprecated.\n",
      "  korelasyon_katsayisi, pvalue = stats.kendalltau(df[\"tip\"], df[\"total_bill\"])\n"
     ]
    }
   ],
   "source": [
    "korelasyon_katsayisi, pvalue = stats.kendalltau(df[\"tip\"], df[\"total_bill\"])\n",
    "print('Kolerasyon Katsayısı = %.4f, p-değeri = %.4f' % (korelasyon_katsayisi, pvalue))"
   ]
  },
  {
   "cell_type": "markdown",
   "id": "4d0b9efc-48f0-4692-af3f-b0e0726d731e",
   "metadata": {},
   "source": [
    "### --DONE--"
   ]
  }
 ],
 "metadata": {
  "kernelspec": {
   "display_name": "Python 3 (ipykernel)",
   "language": "python",
   "name": "python3"
  },
  "language_info": {
   "codemirror_mode": {
    "name": "ipython",
    "version": 3
   },
   "file_extension": ".py",
   "mimetype": "text/x-python",
   "name": "python",
   "nbconvert_exporter": "python",
   "pygments_lexer": "ipython3",
   "version": "3.11.4"
  }
 },
 "nbformat": 4,
 "nbformat_minor": 5
}
